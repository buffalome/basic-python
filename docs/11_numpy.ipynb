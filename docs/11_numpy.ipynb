{
  "cells": [
    {
      "cell_type": "markdown",
      "metadata": {},
      "source": [
        "# Numpy\n",
        "\n",
        "Kittikun Jitpairod\n",
        "\n",
        "## Introduction to NumPy in Economics\n",
        "\n",
        "`NumPy` (Numerical Python) is a fundamental package for scientific\n",
        "computing in Python. Its application in economics is widespread due to\n",
        "its efficient handling of large datasets and its comprehensive\n",
        "mathematical functions. This section explores the utilization of `NumPy`\n",
        "for basic economic calculations.\n",
        "\n",
        "## Installing and Importing NumPy\n",
        "\n",
        "Before proceeding with calculations, it is necessary to install and\n",
        "import NumPy:"
      ],
      "id": "60761e8a-642b-445c-9642-ad621dc15f26"
    },
    {
      "cell_type": "code",
      "execution_count": 1,
      "metadata": {},
      "outputs": [],
      "source": [
        "# Installation (execute in command line)\n",
        "# pip install numpy\n",
        "\n",
        "# Importing in Python script\n",
        "import numpy as np"
      ],
      "id": "add1aa65"
    },
    {
      "cell_type": "markdown",
      "metadata": {},
      "source": [
        "## Creating Arrays for Economic Data\n",
        "\n",
        "NumPy’s primary object is the homogeneous multidimensional array. In\n",
        "economic contexts, these arrays often represent time series data, price\n",
        "vectors, or matrices of economic indicators."
      ],
      "id": "38065adb-9c6c-441e-8131-7b50f72357c2"
    },
    {
      "cell_type": "code",
      "execution_count": 2,
      "metadata": {},
      "outputs": [
        {
          "output_type": "stream",
          "name": "stdout",
          "text": [
            "[100 102 104 103 106]\n",
            "[[100 120 140]\n",
            " [120 110 100]]"
          ]
        }
      ],
      "source": [
        "# Creating a 1D array of prices\n",
        "prices = np.array([100, 102, 104, 103, 106])\n",
        "\n",
        "# Creating a 2D array of supply and demand quantities\n",
        "supply_demand = np.array([[100, 120, 140], [120, 110, 100]])\n",
        "\n",
        "print(prices)\n",
        "print(supply_demand)"
      ],
      "id": "aba2c442"
    },
    {
      "cell_type": "markdown",
      "metadata": {},
      "source": [
        "## Basic Statistical Calculations\n",
        "\n",
        "Economic analysis often requires descriptive statistics to summarize\n",
        "data. NumPy provides functions for essential statistical calculations.\n",
        "Let’s compare NumPy implementations with standard Python\n",
        "implementations:\n",
        "\n",
        "### Mean (Average)\n",
        "\n",
        "The mean represents the central tendency of a dataset.\n",
        "\n",
        "Equation: $\\bar{x} = \\frac{1}{n} \\sum_{i=1}^n x_i$\n",
        "\n",
        "Standard Python implementation:"
      ],
      "id": "221c2b6e-e75f-4425-b31f-d6f76cf7982f"
    },
    {
      "cell_type": "code",
      "execution_count": 3,
      "metadata": {},
      "outputs": [
        {
          "output_type": "stream",
          "name": "stdout",
          "text": [
            "103.0"
          ]
        }
      ],
      "source": [
        "prices = [100, 102, 104, 103, 106]\n",
        "mean_price_py = sum(prices) / len(prices)\n",
        "print(mean_price_py)"
      ],
      "id": "20b9407c"
    },
    {
      "cell_type": "markdown",
      "metadata": {},
      "source": [
        "NumPy implementation:"
      ],
      "id": "573d6051-bfde-4f32-9931-86ab908c5779"
    },
    {
      "cell_type": "code",
      "execution_count": 4,
      "metadata": {},
      "outputs": [
        {
          "output_type": "stream",
          "name": "stdout",
          "text": [
            "103.0"
          ]
        }
      ],
      "source": [
        "mean_price_np = np.mean(prices)\n",
        "print(mean_price_np)"
      ],
      "id": "f8a95f1d"
    },
    {
      "cell_type": "markdown",
      "metadata": {},
      "source": [
        "### Median\n",
        "\n",
        "The median is the middle value when a dataset is ordered from least to\n",
        "greatest. It’s useful for understanding the central tendency when data\n",
        "is skewed.\n",
        "\n",
        "Standard Python implementation:"
      ],
      "id": "05c7cb61-4886-4bc1-b4db-371b92cc3f4d"
    },
    {
      "cell_type": "code",
      "execution_count": 5,
      "metadata": {},
      "outputs": [
        {
          "output_type": "stream",
          "name": "stdout",
          "text": [
            "103"
          ]
        }
      ],
      "source": [
        "sorted_prices = sorted(prices)\n",
        "n = len(sorted_prices)\n",
        "if n % 2 == 0: # even number\n",
        "    median_price_py = (sorted_prices[n//2 - 1] + sorted_prices[n//2]) / 2\n",
        "else: # odd number\n",
        "    median_price_py = sorted_prices[n//2]\n",
        "print(median_price_py)"
      ],
      "id": "eccae381"
    },
    {
      "cell_type": "markdown",
      "metadata": {},
      "source": [
        "NumPy implementation:"
      ],
      "id": "8469071d-6312-4091-bdde-9141bdb10440"
    },
    {
      "cell_type": "code",
      "execution_count": 6,
      "metadata": {},
      "outputs": [
        {
          "output_type": "stream",
          "name": "stdout",
          "text": [
            "103.0"
          ]
        }
      ],
      "source": [
        "median_price_np = np.median(prices)\n",
        "print(median_price_np)"
      ],
      "id": "e51d27b4"
    },
    {
      "cell_type": "markdown",
      "metadata": {},
      "source": [
        "### Standard Deviation\n",
        "\n",
        "Standard deviation measures the amount of variation or dispersion of a\n",
        "set of values. In economics, it’s used to quantify the amount of\n",
        "variation or dispersion of a set of data values.\n",
        "\n",
        "Equation: $\\sigma = \\sqrt{\\frac{1}{N} \\sum_{i=1}^N (x_i - \\bar{x})^2}$\n",
        "\n",
        "Standard Python implementation:"
      ],
      "id": "b0c80e51-9570-4548-b309-7366ac6a2256"
    },
    {
      "cell_type": "code",
      "execution_count": 7,
      "metadata": {},
      "outputs": [
        {
          "output_type": "stream",
          "name": "stdout",
          "text": [
            "2.0"
          ]
        }
      ],
      "source": [
        "mean = sum(prices) / len(prices)\n",
        "\n",
        "squared_diff = [\n",
        "    (x - mean) ** 2 for x in prices]\n",
        "\n",
        "variance = sum(squared_diff) / len(prices)\n",
        "\n",
        "price_std_py = variance ** 0.5\n",
        "\n",
        "print(price_std_py)"
      ],
      "id": "a0d59e87"
    },
    {
      "cell_type": "markdown",
      "metadata": {},
      "source": [
        "NumPy implementation (1):"
      ],
      "id": "6b5a9f6b-c619-4728-bb58-ebf7f8253fd9"
    },
    {
      "cell_type": "code",
      "execution_count": 8,
      "metadata": {},
      "outputs": [
        {
          "output_type": "stream",
          "name": "stdout",
          "text": [
            "2.0"
          ]
        }
      ],
      "source": [
        "mean = np.sum(prices) / len(prices)\n",
        "\n",
        "squared_diff = (prices - mean) ** 2\n",
        "\n",
        "variance = np.sum(squared_diff) / len(prices)\n",
        "\n",
        "price_std_manual_np = np.sqrt(variance)\n",
        "\n",
        "print(price_std_manual_np)"
      ],
      "id": "452c5682"
    },
    {
      "cell_type": "markdown",
      "metadata": {},
      "source": [
        "NumPy implementation (2):"
      ],
      "id": "e2484235-bc92-4a86-97c0-6b9834936fdd"
    },
    {
      "cell_type": "code",
      "execution_count": 9,
      "metadata": {},
      "outputs": [
        {
          "output_type": "stream",
          "name": "stdout",
          "text": [
            "2.0"
          ]
        }
      ],
      "source": [
        "price_std_np = np.std(prices)\n",
        "print(price_std_np)"
      ],
      "id": "031ee8f3"
    },
    {
      "cell_type": "markdown",
      "metadata": {},
      "source": [
        "### Comparison and Discussion\n",
        "\n",
        "As demonstrated, NumPy provides more concise and readable\n",
        "implementations for these statistical calculations. The standard Python\n",
        "implementations require more lines of code and explicit loop constructs.\n",
        "\n",
        "Key advantages of using NumPy for these calculations include:\n",
        "\n",
        "1.  Conciseness: NumPy functions like `np.mean()`, `np.median()`, and\n",
        "    `np.std()` encapsulate complex operations in single function calls.\n",
        "\n",
        "2.  Performance: NumPy operations are implemented in C, making them\n",
        "    significantly faster than equivalent Python loops, especially for\n",
        "    large datasets.\n",
        "\n",
        "3.  Precision: NumPy uses optimized algorithms that can provide better\n",
        "    numerical stability and precision, particularly for operations like\n",
        "    standard deviation on large datasets.\n",
        "\n",
        "4.  Vectorization: NumPy allows for vectorized operations on entire\n",
        "    arrays, which is more efficient and easier to read and maintain than\n",
        "    explicit loops.\n",
        "\n",
        "5.  Consistency: NumPy provides a consistent interface for working with\n",
        "    multi-dimensional data, which is particularly useful when dealing\n",
        "    with more complex economic datasets.\n",
        "\n",
        "## Time Value of Money Calculations\n",
        "\n",
        "The time value of money is a core principle in finance and economics.\n",
        "NumPy’s exponential and financial functions facilitate these\n",
        "calculations:\n",
        "\n",
        "### Future Value\n",
        "\n",
        "Future Value (FV) calculates the value of a current asset at a future\n",
        "date based on an assumed growth rate.\n",
        "\n",
        "Equation: $FV = PV \\cdot e^{rt}$\n",
        "\n",
        "Where:\n",
        "\n",
        "-   $FV$ = Future Value\n",
        "-   $PV$ = Present Value\n",
        "-   $r$ = interest rate (as a decimal)\n",
        "-   $t$ = number of time periods"
      ],
      "id": "ae30c2f5-7da2-4708-a24a-c033d0e0417a"
    },
    {
      "cell_type": "code",
      "execution_count": 10,
      "metadata": {},
      "outputs": [
        {
          "output_type": "stream",
          "name": "stdout",
          "text": [
            "1284.0254166877414"
          ]
        }
      ],
      "source": [
        "def FV(PV:float, rate:float, time:int) -> float:\n",
        "    return PV * np.exp(rate * time)\n",
        "\n",
        "print(FV(1000.0, 0.05, 5))"
      ],
      "id": "6417b489"
    },
    {
      "cell_type": "markdown",
      "metadata": {},
      "source": [
        "## Matrix Operations for Input-Output Analysis\n",
        "\n",
        "Input-Output analysis in economics often involves matrix operations,\n",
        "which NumPy handles efficiently. This analysis examines the\n",
        "interdependencies between different sectors of the economy.\n",
        "\n",
        "### Leontief Inverse\n",
        "\n",
        "The Leontief inverse is crucial in input-output analysis. It’s used to\n",
        "compute the total output required to meet a given final demand.\n",
        "\n",
        "Equation: $X = (I - A)^{-1} \\cdot D$\n",
        "\n",
        "Where:\n",
        "\n",
        "-   $X$ = Total output vector\n",
        "-   $I$ = Identity matrix\n",
        "-   $A$ = Matrix of technical coefficients\n",
        "-   $D$ = Final demand vector"
      ],
      "id": "7d689013-caf6-4ae6-b282-257edd0ff719"
    },
    {
      "cell_type": "code",
      "execution_count": 11,
      "metadata": {},
      "outputs": [
        {
          "output_type": "stream",
          "name": "stdout",
          "text": [
            "Matrix A\n",
            "[[0.2 0.3]\n",
            " [0.4 0.1]]\n",
            "\n",
            "Matrix D\n",
            "[[100]\n",
            " [200]]\n",
            "\n",
            "Matrix I\n",
            "[[1. 0.]\n",
            " [0. 1.]]\n",
            "\n",
            "\n",
            "[[250.        ]\n",
            " [333.33333333]]\n",
            "[[250.        ]\n",
            " [333.33333333]]"
          ]
        }
      ],
      "source": [
        "A = np.array([[0.2, 0.3], [0.4, 0.1]])\n",
        "D = np.array([[100], [200]])\n",
        "I = np.eye(A.shape[0])\n",
        "\n",
        "print('Matrix A')\n",
        "print(A)\n",
        "\n",
        "print('\\nMatrix D')\n",
        "print(D)\n",
        "\n",
        "print('\\nMatrix I')\n",
        "print(I)\n",
        "\n",
        "print('\\n')\n",
        "print(np.linalg.inv(I - A) @ D)\n",
        "print(np.matmul(np.linalg.inv(I - A), D))"
      ],
      "id": "2df8acd4"
    },
    {
      "cell_type": "markdown",
      "metadata": {},
      "source": [
        "-   `np.eye()`: create an identity matrix\n",
        "-   `A.shape`: get the dimension of A\n",
        "-   `np.linalg`: linear algebra module\n",
        "-   `@` operator: matrix multiplication, equivalent to `np.matmul(A, B)`\n",
        "\n",
        "## Calculating Economic Indicators\n",
        "\n",
        "NumPy can be used to calculate various economic indicators:\n",
        "\n",
        "### GDP Growth Rate\n",
        "\n",
        "The GDP growth rate measures how fast the economy is growing. It’s\n",
        "typically calculated on an annual basis.\n",
        "\n",
        "Equation:\n",
        "$\\text{GDP Growth Rate} = \\frac{\\text{GDP}_t - \\text{GDP}_{t-1}}{\\text{GDP}_{t-1}} \\times 100\\%$"
      ],
      "id": "be2a58ca-19f8-4090-99af-1e90e58fc93f"
    },
    {
      "cell_type": "code",
      "execution_count": 12,
      "metadata": {},
      "outputs": [
        {
          "output_type": "stream",
          "name": "stdout",
          "text": [
            "[2.         2.94117647 2.85714286 1.85185185]"
          ]
        }
      ],
      "source": [
        "gdp_values = np.array([100, 102, 105, 108, 110])\n",
        "\n",
        "gdp_growth_rates = (gdp_values[1:] - gdp_values[:-1]) / gdp_values[:-1] * 100\n",
        "\n",
        "print(gdp_growth_rates)"
      ],
      "id": "4ffa06be"
    },
    {
      "cell_type": "markdown",
      "metadata": {},
      "source": [
        "### Inflation Rate\n",
        "\n",
        "The inflation rate measures the rate at which the general level of\n",
        "prices for goods and services is rising, consequently eroding purchasing\n",
        "power.\n",
        "\n",
        "Equation:\n",
        "$\\text{Inflation Rate} = \\frac{\\text{CPI}_t - \\text{CPI}_{t-1}}{\\text{CPI}_{t-1}} \\times 100\\%$"
      ],
      "id": "3ecb1e1f-80f6-45d9-be89-2875e0245418"
    },
    {
      "cell_type": "code",
      "execution_count": 13,
      "metadata": {},
      "outputs": [
        {
          "output_type": "stream",
          "name": "stdout",
          "text": [
            "[2.         2.45098039 1.9138756  2.34741784]"
          ]
        }
      ],
      "source": [
        "cpi_values = np.array([200, 204, 209, 213, 218])\n",
        "\n",
        "inflation_rates = (cpi_values[1:] - cpi_values[:-1]) / cpi_values[:-1] * 100\n",
        "\n",
        "print(inflation_rates)"
      ],
      "id": "be6af6e3"
    },
    {
      "cell_type": "markdown",
      "metadata": {},
      "source": [
        "## Optimization Problems\n",
        "\n",
        "Many economic problems involve optimization. NumPy, in conjunction with\n",
        "SciPy, can solve these problems efficiently.\n",
        "\n",
        "### Cost Minimization ([more info.](https://docs.scipy.org/doc/scipy/reference/generated/scipy.optimize.minimize.html))\n",
        "\n",
        "This example demonstrates a simple cost minimization problem subject to\n",
        "a constraint.\n",
        "\n",
        "Objective function: $\\min f(x) = x_1^2 + x_2^2$\n",
        "\n",
        "Subject to: $x_1 + x_2 = 1$"
      ],
      "id": "5e356521-f92a-49c2-b884-6b6d6661a79e"
    },
    {
      "cell_type": "code",
      "execution_count": 14,
      "metadata": {
        "output-location": "column"
      },
      "outputs": [
        {
          "output_type": "stream",
          "name": "stdout",
          "text": [
            " message: Optimization terminated successfully\n",
            " success: True\n",
            "  status: 0\n",
            "     fun: 0.5\n",
            "       x: [ 5.000e-01  5.000e-01]\n",
            "     nit: 1\n",
            "     jac: [ 1.000e+00  1.000e+00]\n",
            "    nfev: 3\n",
            "    njev: 1"
          ]
        }
      ],
      "source": [
        "from scipy.optimize import minimize\n",
        "\n",
        "def cost(x):\n",
        "    return x[0]**2 + x[1]**2\n",
        "\n",
        "def constraint(x):\n",
        "    return x[0] + x[1] - 1\n",
        "\n",
        "result = minimize(cost, [0.5, 0.5], method='SLSQP',\n",
        "            constraints={'type': 'eq', 'fun': constraint})\n",
        "            \n",
        "print(result)"
      ],
      "id": "87e6410a"
    }
  ],
  "nbformat": 4,
  "nbformat_minor": 5,
  "metadata": {
    "kernelspec": {
      "name": "python3",
      "display_name": "Python 3 (ipykernel)",
      "language": "python",
      "path": "/Users/kittikun/Personal/python/econ/.venv/share/jupyter/kernels/python3"
    },
    "language_info": {
      "name": "python",
      "codemirror_mode": {
        "name": "ipython",
        "version": "3"
      },
      "file_extension": ".py",
      "mimetype": "text/x-python",
      "nbconvert_exporter": "python",
      "pygments_lexer": "ipython3",
      "version": "3.12.4"
    }
  }
}
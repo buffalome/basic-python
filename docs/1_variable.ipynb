{
  "cells": [
    {
      "cell_type": "markdown",
      "metadata": {},
      "source": [
        "# Variable\n",
        "\n",
        "Kittikun Jitpairod\n",
        "\n",
        "## Introduction\n",
        "\n",
        "In computer programming, variables act as containers that store data in\n",
        "a program. They allow for easy management of information throughout a\n",
        "program’s run. Python uses a system called dynamic typing, which figures\n",
        "out the type of data in a variable based on what is stored in it. This\n",
        "feature helps make Python easy for new programmers to learn.\n",
        "\n",
        "## Variable Naming Rules\n",
        "\n",
        "When creating variables in Python, certain naming rules must be\n",
        "followed:\n",
        "\n",
        "1.  The first character must be a letter (a-z, A-Z) or an underscore\n",
        "    (\\_).\n",
        "\n",
        "2.  After the first character, the name can include letters, numbers,\n",
        "    and underscores.\n",
        "\n",
        "3.  Variable names are case-sensitive. This means `age`, `Age`, and\n",
        "    `AGE` are three different variables.\n",
        "\n",
        "4.  Python keywords, which are special words used by Python, cannot be\n",
        "    used as variable names.\n",
        "\n",
        "-   **Examples of valid variable names:** `name`, `age`,\n",
        "    `student_count`, `_private_var`, `total2`\n",
        "\n",
        "-   **Examples of invalid variable names:** `2total` (starts with a\n",
        "    number), `my-var` (has a hyphen), `for` (Python keyword)\n",
        "\n",
        "While Python allows variables to start with an underscore, this is\n",
        "generally avoided unless there’s a specific reason to do so.\n",
        "\n",
        "## Variable Assignment\n",
        "\n",
        "Storing data in variables is called assignment. In Python, this is done\n",
        "using the equals sign (=). The basic format is:\n",
        "\n",
        "``` python\n",
        "variable_name = value\n",
        "```\n",
        "\n",
        "Here are some examples:"
      ],
      "id": "3f3c55d9-fc1b-4398-8d27-76858b225603"
    },
    {
      "cell_type": "code",
      "execution_count": 1,
      "metadata": {},
      "outputs": [],
      "source": [
        "x = 5\n",
        "name = \"Alice\"\n",
        "pi = 3.14159"
      ],
      "id": "f71cd4f2"
    },
    {
      "cell_type": "markdown",
      "metadata": {},
      "source": [
        "These examples create three variables:\n",
        "\n",
        "-   `x` is given the integer value 5\n",
        "\n",
        "-   `name` is given the string value “Alice”\n",
        "\n",
        "-   `pi` is given the decimal value 3.14159\n",
        "\n",
        "## Multiple Assignment\n",
        "\n",
        "Python allows assigning values to multiple variables in one line of\n",
        "code. This can be done in two main ways:"
      ],
      "id": "7b83207e-f9c6-44a7-a109-ce31df9709bc"
    },
    {
      "cell_type": "code",
      "execution_count": 2,
      "metadata": {},
      "outputs": [
        {
          "output_type": "stream",
          "name": "stdout",
          "text": [
            "a = 1, b = 2, c = 3"
          ]
        }
      ],
      "source": [
        "a, b, c = 1, 2, 3\n",
        "print(f\"a = {a}, b = {b}, c = {c}\")"
      ],
      "id": "f96a0140"
    },
    {
      "cell_type": "markdown",
      "metadata": {},
      "source": [
        "This gives `a` the value 1, `b` the value 2, and `c` the value 3.\n",
        "\n",
        "Another way is to give the same value to multiple variables at once:"
      ],
      "id": "7b2aba78-15a8-49f3-bdcd-61a03a6ffefd"
    },
    {
      "cell_type": "code",
      "execution_count": 3,
      "metadata": {},
      "outputs": [
        {
          "output_type": "stream",
          "name": "stdout",
          "text": [
            "a = 0, b = 0, c = 0"
          ]
        }
      ],
      "source": [
        "a = b = c = 0\n",
        "print(f\"a = {a}, b = {b}, c = {c}\")"
      ],
      "id": "865fd957"
    },
    {
      "cell_type": "markdown",
      "metadata": {},
      "source": [
        "This sets `x`, `y`, and `z` all equal to 0.\n",
        "\n",
        "While multiple assignment can make code shorter, it should be used\n",
        "carefully to keep the code easy to read.\n",
        "\n",
        "## Variable Types\n",
        "\n",
        "Python is a dynamically typed language, which means you don’t need to\n",
        "declare the type of a variable when you create it. The interpreter\n",
        "infers the type based on the value assigned. However, understanding the\n",
        "basic types is crucial for effective programming.\n",
        "\n",
        "1.  Numeric Types:\n",
        "\n",
        "    -   int: Integers → `5`, `-3`, `0`\n",
        "\n",
        "    -   float: Floating-point numbers → `3.14`, `-0.001`, `2.0e-4`\n",
        "\n",
        "    -   complex: Complex numbers → `3+4j`\n",
        "\n",
        "2.  Sequence Types:\n",
        "\n",
        "    -   str: Strings → `\"Hello\"`, `'Python'`\n",
        "\n",
        "    -   list: Mutable sequences → `[1, 2, 3]`\n",
        "\n",
        "    -   tuple: Immutable sequences → `(1, 2, 3)`\n",
        "\n",
        "Python is a dynamically typed language, which means you don’t need to\n",
        "declare the type of a variable when you create it. The interpreter\n",
        "infers the type based on the value assigned. However, understanding the\n",
        "basic types is crucial for effective programming.\n",
        "\n",
        "1.  Mapping Type:\n",
        "\n",
        "    -   dict: Key-value pairs → `{\"name\": \"John\", \"age\": 30}`\n",
        "\n",
        "2.  Set Types:\n",
        "\n",
        "    -   set: Unordered collection of unique elements → `{1, 2, 3}`\n",
        "\n",
        "    -   frozenset: Immutable version of set\n",
        "\n",
        "3.  Boolean Type:\n",
        "\n",
        "    -   bool: `True` or `False`\n",
        "\n",
        "4.  None Type:\n",
        "\n",
        "    -   None: Represents the absence of a value\n",
        "\n",
        "## Check Variable Types\n",
        "\n",
        "You can check the type of a variable using the `type()` function:"
      ],
      "id": "9a5c78a6-8b78-4f79-ac31-b74d10e64ced"
    },
    {
      "cell_type": "code",
      "execution_count": 4,
      "metadata": {},
      "outputs": [
        {
          "output_type": "stream",
          "name": "stdout",
          "text": [
            "<class 'int'>\n",
            "<class 'float'>\n",
            "<class 'str'>\n",
            "<class 'bool'>"
          ]
        }
      ],
      "source": [
        "age = 25          # integer (int)\n",
        "height = 1.75     # floating-point number (float)\n",
        "name = \"Bob\"      # string (str)\n",
        "is_student = True # boolean (bool)\n",
        "\n",
        "print(type(age))\n",
        "print(type(height))\n",
        "print(type(name))\n",
        "print(type(is_student))"
      ],
      "id": "87ab558e"
    },
    {
      "cell_type": "markdown",
      "metadata": {},
      "source": [
        "## Variable Types Conversion\n",
        "\n",
        "Python also allows type conversion between compatible types:"
      ],
      "id": "89b928cd-f5ee-4c3d-95ae-0b7463188bea"
    },
    {
      "cell_type": "code",
      "execution_count": 5,
      "metadata": {},
      "outputs": [
        {
          "output_type": "stream",
          "name": "stdout",
          "text": [
            "<class 'int'>\n",
            "<class 'float'>\n",
            "<class 'str'>\n",
            "<class 'bool'>"
          ]
        }
      ],
      "source": [
        "a = int(3.14)    # Converts float to int: 3\n",
        "b = float(5)     # Converts int to float: 5.0\n",
        "c = str(42)      # Converts int to str: \"42\"\n",
        "d = bool(1)      # Converts int to bool: True\n",
        "\n",
        "print(type(a))\n",
        "print(type(b))\n",
        "print(type(c))\n",
        "print(type(d))"
      ],
      "id": "fa409474"
    },
    {
      "cell_type": "markdown",
      "metadata": {},
      "source": [
        "## Variable Reassignment\n",
        "\n",
        "A useful feature of Python’s dynamic typing is the ability to change\n",
        "both the value and the type of a variable. For example:"
      ],
      "id": "fec36de0-8e1e-4107-b8af-9158d647610d"
    },
    {
      "cell_type": "code",
      "execution_count": 6,
      "metadata": {},
      "outputs": [
        {
          "output_type": "stream",
          "name": "stdout",
          "text": [
            "5\n",
            "Hello"
          ]
        }
      ],
      "source": [
        "x = 5\n",
        "print(x)\n",
        "x = \"Hello\"\n",
        "print(x)"
      ],
      "id": "6ba32eea"
    },
    {
      "cell_type": "markdown",
      "metadata": {},
      "source": [
        "Here, `x` starts as an integer but is then changed to a string. While\n",
        "this flexibility can be useful, it should be used thoughtfully to avoid\n",
        "confusion.\n",
        "\n",
        "## Variable Type Annotation\n",
        "\n",
        "Variable type annotation, introduced in Python 3.5, allows programmers\n",
        "to clearly state the expected types of variables. This practice makes\n",
        "code easier to read, improves documentation, and helps find potential\n",
        "errors before the program runs.\n",
        "\n",
        "Examples of type annotations in Python:"
      ],
      "id": "2bb76c3b-6fee-438e-9669-44184609756c"
    },
    {
      "cell_type": "code",
      "execution_count": 7,
      "metadata": {},
      "outputs": [
        {
          "output_type": "stream",
          "name": "stdout",
          "text": [
            "30: type <class 'int'>"
          ]
        }
      ],
      "source": [
        "name: str = \"Alice\"\n",
        "age: int = 30\n",
        "height: float = 1.75\n",
        "is_student: bool = True\n",
        "print(f\"{age}: type {type(age)}\")"
      ],
      "id": "cf510289"
    },
    {
      "cell_type": "markdown",
      "metadata": {},
      "source": [
        "The annotation has nothing to do with the data type assigned."
      ],
      "id": "85923f16-0b65-4554-802b-47c473028588"
    },
    {
      "cell_type": "code",
      "execution_count": 8,
      "metadata": {},
      "outputs": [
        {
          "output_type": "stream",
          "name": "stdout",
          "text": [
            "30.5: type <class 'float'>"
          ]
        }
      ],
      "source": [
        "age: int = 30.5\n",
        "print(f\"{age}: type {type(age)}\")"
      ],
      "id": "91499049"
    }
  ],
  "nbformat": 4,
  "nbformat_minor": 5,
  "metadata": {
    "kernelspec": {
      "name": "python3",
      "display_name": "Python 3 (ipykernel)",
      "language": "python",
      "path": "/Users/kittikun/Personal/python/econ/.venv/share/jupyter/kernels/python3"
    },
    "language_info": {
      "name": "python",
      "codemirror_mode": {
        "name": "ipython",
        "version": "3"
      },
      "file_extension": ".py",
      "mimetype": "text/x-python",
      "nbconvert_exporter": "python",
      "pygments_lexer": "ipython3",
      "version": "3.12.4"
    }
  }
}
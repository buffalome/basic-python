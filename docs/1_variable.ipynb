{
  "cells": [
    {
      "cell_type": "markdown",
      "metadata": {},
      "source": [
        "# Variable\n",
        "\n",
        "Kittikun Jitpairod\n",
        "\n",
        "## Introduction\n",
        "\n",
        "In computer programming, variables act as containers that store data in\n",
        "a program. They allow for easy management of information throughout a\n",
        "program’s run. Python uses a system called dynamic typing, which figures\n",
        "out the type of data in a variable based on what is stored in it. This\n",
        "feature helps make Python easy for new programmers to learn.\n",
        "\n",
        "## Variable Naming Rules\n",
        "\n",
        "When creating variables in Python, certain naming rules must be\n",
        "followed:\n",
        "\n",
        "1.  The first character must be a letter (a-z, A-Z) or an underscore\n",
        "    (\\_).\n",
        "2.  After the first character, the name can include letters, numbers,\n",
        "    and underscores.\n",
        "3.  Variable names are case-sensitive. This means `age`, `Age`, and\n",
        "    `AGE` are three different variables.\n",
        "4.  Python keywords, which are special words used by Python, cannot be\n",
        "    used as variable names.\n",
        "\n",
        "-   **Examples of valid variable names:** `name`, `age`,\n",
        "    `student_count`, `_private_var`, `total2`\n",
        "-   **Examples of invalid variable names:** `2total` (starts with a\n",
        "    number), `my-var` (has a hyphen), `for` (Python keyword)\n",
        "\n",
        "While Python allows variables to start with an underscore, this is\n",
        "generally avoided unless there’s a specific reason to do so.\n",
        "\n",
        "## Variable Assignment\n",
        "\n",
        "Storing data in variables is called assignment. In Python, this is done\n",
        "using the equals sign (=). The basic format is:\n",
        "\n",
        "``` python\n",
        "variable_name = value\n",
        "```\n",
        "\n",
        "Here are some examples:"
      ],
      "id": "f26741cd-0a55-4f5b-b238-3a8cb1a5f81e"
    },
    {
      "cell_type": "code",
      "execution_count": 1,
      "metadata": {},
      "outputs": [],
      "source": [
        "x = 5\n",
        "name = \"Alice\"\n",
        "pi = 3.14159"
      ],
      "id": "0545bc0d"
    },
    {
      "cell_type": "markdown",
      "metadata": {},
      "source": [
        "These examples create three variables:\n",
        "\n",
        "-   `x` is given the integer value 5\n",
        "-   `name` is given the string value “Alice”\n",
        "-   `pi` is given the decimal value 3.14159\n",
        "\n",
        "## Multiple Assignment\n",
        "\n",
        "Python allows assigning values to multiple variables in one line of\n",
        "code. This can be done in two main ways:"
      ],
      "id": "b21c0b61-25ff-4ee8-971f-3a72d679d331"
    },
    {
      "cell_type": "code",
      "execution_count": 2,
      "metadata": {},
      "outputs": [
        {
          "output_type": "stream",
          "name": "stdout",
          "text": [
            "a = 1, b = 2, c = 3"
          ]
        }
      ],
      "source": [
        "a, b, c = 1, 2, 3\n",
        "print(f\"a = {a}, b = {b}, c = {c}\")"
      ],
      "id": "c4b56ad1"
    },
    {
      "cell_type": "markdown",
      "metadata": {},
      "source": [
        "This gives `a` the value 1, `b` the value 2, and `c` the value 3.\n",
        "\n",
        "Another way is to give the same value to multiple variables at once:"
      ],
      "id": "b78039a9-f8a5-4686-9009-8feb8e53c3c2"
    },
    {
      "cell_type": "code",
      "execution_count": 3,
      "metadata": {},
      "outputs": [
        {
          "output_type": "stream",
          "name": "stdout",
          "text": [
            "a = 0, b = 0, c = 0"
          ]
        }
      ],
      "source": [
        "a = b = c = 0\n",
        "print(f\"a = {a}, b = {b}, c = {c}\")"
      ],
      "id": "6c9c3740"
    },
    {
      "cell_type": "markdown",
      "metadata": {},
      "source": [
        "This sets `x`, `y`, and `z` all equal to 0.\n",
        "\n",
        "While multiple assignment can make code shorter, it should be used\n",
        "carefully to keep the code easy to read.\n",
        "\n",
        "## Variable Types\n",
        "\n",
        "Python is a dynamically typed language, which means you don’t need to\n",
        "declare the type of a variable when you create it. The interpreter\n",
        "infers the type based on the value assigned. However, understanding the\n",
        "basic types is crucial for effective programming.\n",
        "\n",
        "1.  Numeric Types:\n",
        "    -   int: Integers → `5`, `-3`, `0`\n",
        "    -   float: Floating-point numbers → `3.14`, `-0.001`, `2.0e-4`\n",
        "    -   complex: Complex numbers → `3+4j`\n",
        "2.  Sequence Types:\n",
        "    -   str: Strings → `\"Hello\"`, `'Python'`\n",
        "    -   list: Mutable sequences → `[1, 2, 3]`\n",
        "    -   tuple: Immutable sequences → `(1, 2, 3)`\n",
        "\n",
        "Python is a dynamically typed language, which means you don’t need to\n",
        "declare the type of a variable when you create it. The interpreter\n",
        "infers the type based on the value assigned. However, understanding the\n",
        "basic types is crucial for effective programming.\n",
        "\n",
        "1.  Mapping Type:\n",
        "    -   dict: Key-value pairs → `{\"name\": \"John\", \"age\": 30}`\n",
        "2.  Set Types:\n",
        "    -   set: Unordered collection of unique elements → `{1, 2, 3}`\n",
        "    -   frozenset: Immutable version of set\n",
        "3.  Boolean Type:\n",
        "    -   bool: `True` or `False`\n",
        "4.  None Type:\n",
        "    -   None: Represents the absence of a value\n",
        "\n",
        "## Check Variable Types\n",
        "\n",
        "You can check the type of a variable using the `type()` function:"
      ],
      "id": "dacd1bcf-53fd-40fc-ac5c-6b51f1f2e3a1"
    },
    {
      "cell_type": "code",
      "execution_count": 4,
      "metadata": {},
      "outputs": [
        {
          "output_type": "stream",
          "name": "stdout",
          "text": [
            "<class 'int'>\n",
            "<class 'float'>\n",
            "<class 'str'>\n",
            "<class 'bool'>"
          ]
        }
      ],
      "source": [
        "age = 25          # integer (int)\n",
        "height = 1.75     # floating-point number (float)\n",
        "name = \"Bob\"      # string (str)\n",
        "is_student = True # boolean (bool)\n",
        "\n",
        "print(type(age))\n",
        "print(type(height))\n",
        "print(type(name))\n",
        "print(type(is_student))"
      ],
      "id": "e6297c3b"
    },
    {
      "cell_type": "markdown",
      "metadata": {},
      "source": [
        "## Variable Types Conversion\n",
        "\n",
        "Python also allows type conversion between compatible types:"
      ],
      "id": "347964f0-80c4-4831-b433-755c5acbfbc5"
    },
    {
      "cell_type": "code",
      "execution_count": 5,
      "metadata": {},
      "outputs": [
        {
          "output_type": "stream",
          "name": "stdout",
          "text": [
            "<class 'int'>\n",
            "<class 'float'>\n",
            "<class 'str'>\n",
            "<class 'bool'>"
          ]
        }
      ],
      "source": [
        "a = int(3.14)    # Converts float to int: 3\n",
        "b = float(5)     # Converts int to float: 5.0\n",
        "c = str(42)      # Converts int to str: \"42\"\n",
        "d = bool(1)      # Converts int to bool: True\n",
        "\n",
        "print(type(a))\n",
        "print(type(b))\n",
        "print(type(c))\n",
        "print(type(d))"
      ],
      "id": "2b27d4ed"
    },
    {
      "cell_type": "markdown",
      "metadata": {},
      "source": [
        "## Variable Reassignment\n",
        "\n",
        "A useful feature of Python’s dynamic typing is the ability to change\n",
        "both the value and the type of a variable. For example:"
      ],
      "id": "2cdf5405-c58f-4b23-85ac-6a35a1260c9b"
    },
    {
      "cell_type": "code",
      "execution_count": 6,
      "metadata": {},
      "outputs": [
        {
          "output_type": "stream",
          "name": "stdout",
          "text": [
            "5\n",
            "Hello"
          ]
        }
      ],
      "source": [
        "x = 5\n",
        "print(x)\n",
        "x = \"Hello\"\n",
        "print(x)"
      ],
      "id": "214c50a0"
    },
    {
      "cell_type": "markdown",
      "metadata": {},
      "source": [
        "Here, `x` starts as an integer but is then changed to a string. While\n",
        "this flexibility can be useful, it should be used thoughtfully to avoid\n",
        "confusion.\n",
        "\n",
        "## Variable Type Annotation\n",
        "\n",
        "Variable type annotation, introduced in Python 3.5, allows programmers\n",
        "to clearly state the expected types of variables. This practice makes\n",
        "code easier to read, improves documentation, and helps find potential\n",
        "errors before the program runs.\n",
        "\n",
        "Examples of type annotations in Python:"
      ],
      "id": "d0ae6adf-eace-4632-b57c-87e7e1a9a9d0"
    },
    {
      "cell_type": "code",
      "execution_count": 7,
      "metadata": {},
      "outputs": [
        {
          "output_type": "stream",
          "name": "stdout",
          "text": [
            "30: type <class 'int'>"
          ]
        }
      ],
      "source": [
        "name: str = \"Alice\"\n",
        "age: int = 30\n",
        "height: float = 1.75\n",
        "is_student: bool = True\n",
        "print(f\"{age}: type {type(age)}\")"
      ],
      "id": "db7dbd1f"
    },
    {
      "cell_type": "markdown",
      "metadata": {},
      "source": [
        "The annotation has nothing to do with the data type assigned."
      ],
      "id": "c3dab010-dd89-432b-a618-4769e7793e0a"
    },
    {
      "cell_type": "code",
      "execution_count": 8,
      "metadata": {},
      "outputs": [
        {
          "output_type": "stream",
          "name": "stdout",
          "text": [
            "30.5: type <class 'float'>"
          ]
        }
      ],
      "source": [
        "age: int = 30.5\n",
        "print(f\"{age}: type {type(age)}\")"
      ],
      "id": "17447cf7"
    }
  ],
  "nbformat": 4,
  "nbformat_minor": 5,
  "metadata": {
    "kernelspec": {
      "name": "python3",
      "display_name": "Python 3 (ipykernel)",
      "language": "python",
      "path": "/Users/kittikun/Personal/python/econ/.venv/share/jupyter/kernels/python3"
    },
    "language_info": {
      "name": "python",
      "codemirror_mode": {
        "name": "ipython",
        "version": "3"
      },
      "file_extension": ".py",
      "mimetype": "text/x-python",
      "nbconvert_exporter": "python",
      "pygments_lexer": "ipython3",
      "version": "3.12.4"
    }
  }
}
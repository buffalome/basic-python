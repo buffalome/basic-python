{
  "cells": [
    {
      "cell_type": "markdown",
      "metadata": {},
      "source": [
        "# String\n",
        "\n",
        "Kittikun Jitpairod\n",
        "\n",
        "## Introduction\n",
        "\n",
        "In Python, a string is an immutable sequence of characters. It can\n",
        "represent text of any length, from a single character to entire\n",
        "paragraphs.\n",
        "\n",
        "## Creating Strings\n",
        "\n",
        "Strings can be created using single, double, or triple quotes:"
      ],
      "id": "f2ab6abb-e2e9-4078-8321-0b81e0cb3eca"
    },
    {
      "cell_type": "code",
      "execution_count": 1,
      "metadata": {},
      "outputs": [
        {
          "output_type": "stream",
          "name": "stdout",
          "text": [
            "Hello, World!\n",
            "Python Programming\n",
            "This string spans\n",
            "multiple lines"
          ]
        }
      ],
      "source": [
        "single_quoted = 'Hello, World!'\n",
        "double_quoted = \"Python Programming\"\n",
        "triple_quoted = '''This string spans\n",
        "multiple lines'''\n",
        "print(single_quoted)\n",
        "print(double_quoted)\n",
        "print(triple_quoted)"
      ],
      "id": "a024c1d9"
    },
    {
      "cell_type": "markdown",
      "metadata": {},
      "source": [
        "One quick tip: if you need to include quotes within your string, you can\n",
        "either use different quotes to enclose the string, or you can **escape\n",
        "the quotes**."
      ],
      "id": "e8a7778d-6285-4306-8d0b-ef2f7f71f89a"
    },
    {
      "cell_type": "code",
      "execution_count": 2,
      "metadata": {},
      "outputs": [
        {
          "output_type": "stream",
          "name": "stdout",
          "text": [
            "This's a book"
          ]
        }
      ],
      "source": [
        "print('This\\'s a book')"
      ],
      "id": "71925cbe"
    },
    {
      "cell_type": "markdown",
      "metadata": {},
      "source": [
        "## Common Escape Characters\n",
        "\n",
        "1.  `\\n` - Newline\n",
        "2.  `\\t` - Tab\n",
        "3.  `\\\\` - Backslash\n",
        "4.  `\\'` - Single quote\n",
        "\n",
        "1.  `\\\"` - Double quote\n",
        "2.  `\\r` - Carriage return\n",
        "3.  `\\b` - Backspace\n",
        "4.  `\\f` - Form feed"
      ],
      "id": "13aff9de-32a7-4d07-8cc7-e46b420ad5ea"
    },
    {
      "cell_type": "code",
      "execution_count": 3,
      "metadata": {},
      "outputs": [
        {
          "output_type": "stream",
          "name": "stdout",
          "text": [
            "Hello\n",
            "World\n",
            "\n",
            "Name:   John\n",
            "Path: C:\\Users\\John\n",
            "It's a beautiful day\n",
            "She said, \"Hello!\""
          ]
        }
      ],
      "source": [
        "print(\"Hello\\nWorld\\n\")  # Newline\n",
        "print(\"Name:\\tJohn\")   # Tab\n",
        "print(\"Path: C:\\\\Users\\\\John\")  # Backslash\n",
        "print('It\\'s a beautiful day')  # Single quote in single-quoted string\n",
        "print(\"She said, \\\"Hello!\\\"\")   # Double quote in double-quoted string"
      ],
      "id": "f084d0d0"
    },
    {
      "cell_type": "markdown",
      "metadata": {},
      "source": [
        "## String Operations\n",
        "\n",
        "### Concatenation"
      ],
      "id": "c433fa91-0c5d-4ae3-beb9-aadad8f1dea0"
    },
    {
      "cell_type": "code",
      "execution_count": 4,
      "metadata": {},
      "outputs": [
        {
          "output_type": "stream",
          "name": "stdout",
          "text": [
            "John Doe"
          ]
        }
      ],
      "source": [
        "full_name = \"John\" + \" \" + \"Doe\"\n",
        "print(full_name)"
      ],
      "id": "ea65af79"
    },
    {
      "cell_type": "markdown",
      "metadata": {},
      "source": [
        "### Repetition"
      ],
      "id": "bd718771-c876-4b21-b4ad-8817f388b41e"
    },
    {
      "cell_type": "code",
      "execution_count": 5,
      "metadata": {},
      "outputs": [
        {
          "output_type": "stream",
          "name": "stdout",
          "text": [
            "Python Python Python "
          ]
        }
      ],
      "source": [
        "repeated = \"Python \" * 3\n",
        "print(repeated)"
      ],
      "id": "ebe862e9"
    },
    {
      "cell_type": "markdown",
      "metadata": {},
      "source": [
        "### Indexing and Slicing"
      ],
      "id": "c17f98e4-4fe1-4f26-87a7-8dc8df8a0949"
    },
    {
      "cell_type": "code",
      "execution_count": 6,
      "metadata": {},
      "outputs": [
        {
          "output_type": "stream",
          "name": "stdout",
          "text": [
            "P\n",
            "n\n",
            "h\n",
            "yth\n",
            "Pyt\n",
            "thon"
          ]
        }
      ],
      "source": [
        "text = \"Python\"\n",
        "'''\n",
        "               \"P\" , \"y\" , \"t\" , \"h\" , \"o\", \"n\"\n",
        "Positive Index  0  ,  1  ,  2  ,  3  ,  4 ,  5\n",
        "Negative Index -6  , -5  , -4  , -3  , -2 , -1\n",
        "'''\n",
        "#### Indexing ####\n",
        "print(text[0])  # First character\n",
        "print(text[-1])  # Last character\n",
        "print(text[3])  # Fourth character from start\n",
        "\n",
        "#### Slicing: The syntax is [ start : end ] ####\n",
        "print(text[1:4])  # Characters from index 1 to  3\n",
        "print(text[:3])  # Characters from the start to index 2\n",
        "print(text[2:])  # Characters from index 2 to the end"
      ],
      "id": "39da2ed4"
    },
    {
      "cell_type": "markdown",
      "metadata": {},
      "source": [
        "### Case Conversion"
      ],
      "id": "b4b7103c-04a5-43f1-9d84-0ddcab024259"
    },
    {
      "cell_type": "code",
      "execution_count": 7,
      "metadata": {},
      "outputs": [
        {
          "output_type": "stream",
          "name": "stdout",
          "text": [
            "PYTHON PROGRAMMING\n",
            "python programming\n",
            "Python Programming"
          ]
        }
      ],
      "source": [
        "text = \"Python Programming\"\n",
        "print(text.upper())\n",
        "print(text.lower())\n",
        "print(text.title())"
      ],
      "id": "0ce8c8cb"
    },
    {
      "cell_type": "markdown",
      "metadata": {},
      "source": [
        "### Strip Methods\n",
        "\n",
        "Remove spaces at the beginning and at the end of the string"
      ],
      "id": "5f45818d-698f-4b90-b733-7b15c0f99e2b"
    },
    {
      "cell_type": "code",
      "execution_count": 8,
      "metadata": {},
      "outputs": [
        {
          "output_type": "stream",
          "name": "stdout",
          "text": [
            "|Python||Python   ||   Python|"
          ]
        }
      ],
      "source": [
        "text = \"   Python   \"\n",
        "print(\"|\" + text.strip() + \"|\" + \"|\" + text.lstrip() + \"|\" + \"|\" + text.rstrip() + \"|\")"
      ],
      "id": "8b3db95e"
    },
    {
      "cell_type": "markdown",
      "metadata": {},
      "source": [
        "### Find and Replace"
      ],
      "id": "b4f74a4e-7e32-4677-94c8-5d9d77911de8"
    },
    {
      "cell_type": "code",
      "execution_count": 9,
      "metadata": {},
      "outputs": [
        {
          "output_type": "stream",
          "name": "stdout",
          "text": [
            "7\n",
            "Python is awesome"
          ]
        }
      ],
      "source": [
        "text = \"Python is amazing\"\n",
        "print(text.find(\"is\"))\n",
        "print(text.replace(\"amazing\", \"awesome\"))"
      ],
      "id": "78dfc8fd"
    },
    {
      "cell_type": "markdown",
      "metadata": {},
      "source": [
        "### Split and Join"
      ],
      "id": "3cc5accd-47c2-4371-ab76-79c82b44eccf"
    },
    {
      "cell_type": "code",
      "execution_count": 10,
      "metadata": {},
      "outputs": [
        {
          "output_type": "stream",
          "name": "stdout",
          "text": [
            "['Python', 'Java', 'C++']\n",
            "Python-Java-C++"
          ]
        }
      ],
      "source": [
        "text = \"Python,Java,C++\"\n",
        "languages = text.split(\",\")\n",
        "print(languages)\n",
        "\n",
        "joined = \"-\".join(languages)\n",
        "print(joined)"
      ],
      "id": "fcff3d54"
    },
    {
      "cell_type": "markdown",
      "metadata": {},
      "source": [
        "## String Formatting\n",
        "\n",
        "### Format Method"
      ],
      "id": "58daf08f-12c8-4119-800c-d48d419890ad"
    },
    {
      "cell_type": "code",
      "execution_count": 11,
      "metadata": {},
      "outputs": [
        {
          "output_type": "stream",
          "name": "stdout",
          "text": [
            "My name is Bob and I am 25 years old.\n",
            "My name is Bob and I am 25.00 years old."
          ]
        }
      ],
      "source": [
        "name, age = \"Bob\", 25\n",
        "print(\"My name is {} and I am {} years old.\".format(name, age))\n",
        "print(\"My name is {} and I am {:.2f} years old.\".format(name, age))"
      ],
      "id": "fde2c4b3"
    },
    {
      "cell_type": "markdown",
      "metadata": {},
      "source": [
        "### % Operator (older style)"
      ],
      "id": "7541d5b9-2693-4381-834f-4febe92ee504"
    },
    {
      "cell_type": "code",
      "execution_count": 12,
      "metadata": {},
      "outputs": [
        {
          "output_type": "stream",
          "name": "stdout",
          "text": [
            "My name is Charlie and I am 35 years old.\n",
            "My name is Charlie and I am 35.00 years old."
          ]
        }
      ],
      "source": [
        "name, age = \"Charlie\", 35\n",
        "print(\"My name is %s and I am %d years old.\" %(name, age))\n",
        "print(\"My name is %s and I am %.2f years old.\" %(name, age))"
      ],
      "id": "cf2aa8e1"
    },
    {
      "cell_type": "markdown",
      "metadata": {},
      "source": [
        "### f-strings (Formatted Strings)\n",
        "\n",
        "F-strings provide a concise and readable way to embed expressions inside\n",
        "string literals. They are prefixed with ‘f’ or ‘F’."
      ],
      "id": "09460f7f-e8ff-44f9-8082-75fbe1334193"
    },
    {
      "cell_type": "code",
      "execution_count": 13,
      "metadata": {},
      "outputs": [
        {
          "output_type": "stream",
          "name": "stdout",
          "text": [
            "My name is Alice and I am 30 years old."
          ]
        }
      ],
      "source": [
        "name = \"Alice\"\n",
        "age = 30\n",
        "print(f\"My name is {name} and I am {age} years old.\")"
      ],
      "id": "0ac72773"
    },
    {
      "cell_type": "markdown",
      "metadata": {},
      "source": [
        "### r-strings (Raw Strings)\n",
        "\n",
        "Raw strings, prefixed with ‘r’ or ‘R’, treat backslashes as literal\n",
        "characters. This is particularly useful for regular expressions and file\n",
        "paths."
      ],
      "id": "f1136411-f3a9-45de-94db-67d7f70cea78"
    },
    {
      "cell_type": "code",
      "execution_count": 14,
      "metadata": {},
      "outputs": [
        {
          "output_type": "stream",
          "name": "stdout",
          "text": [
            "C:\\Users\\John\\Documents\n",
            "C:\\Users\\John\\Documents"
          ]
        }
      ],
      "source": [
        "print(r\"C:\\Users\\John\\Documents\")\n",
        "print(\"C:\\\\Users\\\\John\\\\Documents\") # Compare with a normal string:"
      ],
      "id": "2136fed7"
    },
    {
      "cell_type": "markdown",
      "metadata": {},
      "source": [
        "### rf-strings (Raw-Formatted Strings)\n",
        "\n",
        "RF-strings combine the features of raw strings and formatted strings.\n",
        "They are prefixed with ‘rf’ or ‘RF’.\n",
        "\n",
        "Syntax and usage:"
      ],
      "id": "2dad1662-bc6b-42fe-b710-6c058c437402"
    },
    {
      "cell_type": "code",
      "execution_count": 15,
      "metadata": {},
      "outputs": [
        {
          "output_type": "stream",
          "name": "stdout",
          "text": [
            "C:\\Users\\John"
          ]
        }
      ],
      "source": [
        "name = \"John\"\n",
        "path = r\"C:\\Users\"\n",
        "print(rf\"{path}\\{name}\")"
      ],
      "id": "f3fc67c8"
    },
    {
      "cell_type": "markdown",
      "metadata": {},
      "source": [
        "## Number Formatting in Strings\n",
        "\n",
        "formatting options:\n",
        "\n",
        "-   `:.2f`: This specifies we want 2 decimal places for a float.\n",
        "-   `:10`: This sets the total field width to 10 characters.\n",
        "-   `:08.3f`: This pads the number with zeros to a width of 8, including\n",
        "    3 decimal places.\n",
        "-   `:.1%`: This formats the number as a percentage with 1 decimal\n",
        "    place.\n",
        "-   `:,`: This adds thousand separators to large numbers."
      ],
      "id": "d1f831dc-038a-4477-9631-56b259f8aded"
    },
    {
      "cell_type": "code",
      "execution_count": 16,
      "metadata": {},
      "outputs": [
        {
          "output_type": "stream",
          "name": "stdout",
          "text": [
            "Pi to 2 decimal places: 3.14\n",
            "Pi in a field of 10 characters:    3.14159\n",
            "Pi padded with zeros: 0003.142"
          ]
        }
      ],
      "source": [
        "pi = 3.14159\n",
        "radius = 5\n",
        "\n",
        "print(f\"Pi to 2 decimal places: {pi:.2f}\") # Limiting decimal places\n",
        "print(f\"Pi in a field of 10 characters: {pi:10}\") # Specifying width\n",
        "print(f\"Pi padded with zeros: {pi:08.3f}\") # Padding with zeros"
      ],
      "id": "118a44cf"
    },
    {
      "cell_type": "code",
      "execution_count": 17,
      "metadata": {},
      "outputs": [
        {
          "output_type": "stream",
          "name": "stdout",
          "text": [
            "The area of a circle with radius 5 is 78.54\n",
            "You scored 87.6%\n",
            "A million: 1,000,000\n",
            "Scientific notation: 1.23e-04"
          ]
        }
      ],
      "source": [
        "area = pi * radius ** 2 # Using expressions\n",
        "print(f\"The area of a circle with radius {radius} is {area:.2f}\")\n",
        "\n",
        "score = 0.8756 # Formatting percentages\n",
        "print(f\"You scored {score:.1%}\")\n",
        "\n",
        "big_number = 1000000 # Formatting large numbers\n",
        "print(f\"A million: {big_number:,}\")\n",
        "\n",
        "scientific = 0.000123321 # Scientific notation\n",
        "print(\"Scientific notation: {:.2e}\".format(scientific))"
      ],
      "id": "2ac8f500"
    }
  ],
  "nbformat": 4,
  "nbformat_minor": 5,
  "metadata": {
    "kernelspec": {
      "name": "python3",
      "display_name": "Python 3 (ipykernel)",
      "language": "python",
      "path": "/Users/kittikun/Personal/python/econ/.venv/share/jupyter/kernels/python3"
    },
    "language_info": {
      "name": "python",
      "codemirror_mode": {
        "name": "ipython",
        "version": "3"
      },
      "file_extension": ".py",
      "mimetype": "text/x-python",
      "nbconvert_exporter": "python",
      "pygments_lexer": "ipython3",
      "version": "3.12.4"
    }
  }
}
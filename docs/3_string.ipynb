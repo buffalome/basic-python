{
  "cells": [
    {
      "cell_type": "markdown",
      "metadata": {},
      "source": [
        "# String\n",
        "\n",
        "Kittikun Jitpairod\n",
        "\n",
        "## Introduction\n",
        "\n",
        "In Python, a string is an immutable sequence of characters. It can\n",
        "represent text of any length, from a single character to entire\n",
        "paragraphs.\n",
        "\n",
        "## Creating Strings\n",
        "\n",
        "Strings can be created using single, double, or triple quotes:"
      ],
      "id": "0e851f61-a290-423c-bf10-38624f6ca151"
    },
    {
      "cell_type": "code",
      "execution_count": 1,
      "metadata": {},
      "outputs": [
        {
          "output_type": "stream",
          "name": "stdout",
          "text": [
            "Hello, World!\n",
            "Python Programming\n",
            "This string spans\n",
            "multiple lines"
          ]
        }
      ],
      "source": [
        "single_quoted = 'Hello, World!'\n",
        "double_quoted = \"Python Programming\"\n",
        "triple_quoted = '''This string spans\n",
        "multiple lines'''\n",
        "print(single_quoted)\n",
        "print(double_quoted)\n",
        "print(triple_quoted)"
      ],
      "id": "faa89357"
    },
    {
      "cell_type": "markdown",
      "metadata": {},
      "source": [
        "One quick tip: if you need to include quotes within your string, you can\n",
        "either use different quotes to enclose the string, or you can **escape\n",
        "the quotes**."
      ],
      "id": "a21d2b35-84b7-4778-b87e-525a8463ff46"
    },
    {
      "cell_type": "code",
      "execution_count": 2,
      "metadata": {},
      "outputs": [
        {
          "output_type": "stream",
          "name": "stdout",
          "text": [
            "This's a book"
          ]
        }
      ],
      "source": [
        "print('This\\'s a book')"
      ],
      "id": "6b8ff805"
    },
    {
      "cell_type": "markdown",
      "metadata": {},
      "source": [
        "## Common Escape Characters\n",
        "\n",
        "1.  `\\n` - Newline\n",
        "2.  `\\t` - Tab\n",
        "3.  `\\\\` - Backslash\n",
        "4.  `\\'` - Single quote\n",
        "\n",
        "1.  `\\\"` - Double quote\n",
        "2.  `\\r` - Carriage return\n",
        "3.  `\\b` - Backspace\n",
        "4.  `\\f` - Form feed"
      ],
      "id": "0c6ac747-3a79-4648-8cd2-1987ba1b2368"
    },
    {
      "cell_type": "code",
      "execution_count": 3,
      "metadata": {},
      "outputs": [
        {
          "output_type": "stream",
          "name": "stdout",
          "text": [
            "Hello\n",
            "World\n",
            "\n",
            "Name:   John\n",
            "Path: C:\\Users\\John\n",
            "It's a beautiful day\n",
            "She said, \"Hello!\""
          ]
        }
      ],
      "source": [
        "print(\"Hello\\nWorld\\n\")  # Newline\n",
        "print(\"Name:\\tJohn\")   # Tab\n",
        "print(\"Path: C:\\\\Users\\\\John\")  # Backslash\n",
        "print('It\\'s a beautiful day')  # Single quote in single-quoted string\n",
        "print(\"She said, \\\"Hello!\\\"\")   # Double quote in double-quoted string"
      ],
      "id": "7c5fce27"
    },
    {
      "cell_type": "markdown",
      "metadata": {},
      "source": [
        "## String Operations\n",
        "\n",
        "### Concatenation"
      ],
      "id": "26e7812f-4b72-4f1e-a947-a7855d0dd051"
    },
    {
      "cell_type": "code",
      "execution_count": 4,
      "metadata": {},
      "outputs": [
        {
          "output_type": "stream",
          "name": "stdout",
          "text": [
            "John Doe"
          ]
        }
      ],
      "source": [
        "full_name = \"John\" + \" \" + \"Doe\"\n",
        "print(full_name)"
      ],
      "id": "5ce5169f"
    },
    {
      "cell_type": "markdown",
      "metadata": {},
      "source": [
        "### Repetition"
      ],
      "id": "30b6be8a-dc11-4776-abbd-66911cb32892"
    },
    {
      "cell_type": "code",
      "execution_count": 5,
      "metadata": {},
      "outputs": [
        {
          "output_type": "stream",
          "name": "stdout",
          "text": [
            "Python Python Python "
          ]
        }
      ],
      "source": [
        "repeated = \"Python \" * 3\n",
        "print(repeated)"
      ],
      "id": "b4835829"
    },
    {
      "cell_type": "markdown",
      "metadata": {},
      "source": [
        "### Indexing and Slicing"
      ],
      "id": "63c23fbe-c82a-4d32-8db8-36a7c563368d"
    },
    {
      "cell_type": "code",
      "execution_count": 6,
      "metadata": {},
      "outputs": [
        {
          "output_type": "stream",
          "name": "stdout",
          "text": [
            "P\n",
            "n\n",
            "h\n",
            "yth\n",
            "Pyt\n",
            "thon"
          ]
        }
      ],
      "source": [
        "text = \"Python\"\n",
        "'''\n",
        "               \"P\" , \"y\" , \"t\" , \"h\" , \"o\", \"n\"\n",
        "Positive Index  0  ,  1  ,  2  ,  3  ,  4 ,  5\n",
        "Negative Index -6  , -5  , -4  , -3  , -2 , -1\n",
        "'''\n",
        "#### Indexing ####\n",
        "print(text[0])  # First character\n",
        "print(text[-1])  # Last character\n",
        "print(text[3])  # Fourth character from start\n",
        "\n",
        "#### Slicing: The syntax is [ start : end ] ####\n",
        "print(text[1:4])  # Characters from index 1 to  3\n",
        "print(text[:3])  # Characters from the start to index 2\n",
        "print(text[2:])  # Characters from index 2 to the end"
      ],
      "id": "7e08f184"
    },
    {
      "cell_type": "markdown",
      "metadata": {},
      "source": [
        "### Case Conversion"
      ],
      "id": "023bf325-2554-4268-8a0a-08a58d1a4294"
    },
    {
      "cell_type": "code",
      "execution_count": 7,
      "metadata": {},
      "outputs": [
        {
          "output_type": "stream",
          "name": "stdout",
          "text": [
            "PYTHON PROGRAMMING\n",
            "python programming\n",
            "Python Programming"
          ]
        }
      ],
      "source": [
        "text = \"Python Programming\"\n",
        "print(text.upper())\n",
        "print(text.lower())\n",
        "print(text.title())"
      ],
      "id": "2f58d056"
    },
    {
      "cell_type": "markdown",
      "metadata": {},
      "source": [
        "### Strip Methods\n",
        "\n",
        "Remove spaces at the beginning and at the end of the string"
      ],
      "id": "375f163b-9edd-4f13-956c-0c79e02da776"
    },
    {
      "cell_type": "code",
      "execution_count": 8,
      "metadata": {},
      "outputs": [
        {
          "output_type": "stream",
          "name": "stdout",
          "text": [
            "|Python||Python   ||   Python|"
          ]
        }
      ],
      "source": [
        "text = \"   Python   \"\n",
        "print(\"|\" + text.strip() + \"|\" + \"|\" + text.lstrip() + \"|\" + \"|\" + text.rstrip() + \"|\")"
      ],
      "id": "b69d0fe7"
    },
    {
      "cell_type": "markdown",
      "metadata": {},
      "source": [
        "### Find and Replace"
      ],
      "id": "a4bd55f7-49f4-417f-9200-7eab15f15a03"
    },
    {
      "cell_type": "code",
      "execution_count": 9,
      "metadata": {},
      "outputs": [
        {
          "output_type": "stream",
          "name": "stdout",
          "text": [
            "7\n",
            "Python is awesome"
          ]
        }
      ],
      "source": [
        "text = \"Python is amazing\"\n",
        "print(text.find(\"is\"))\n",
        "print(text.replace(\"amazing\", \"awesome\"))"
      ],
      "id": "16f6c4c8"
    },
    {
      "cell_type": "markdown",
      "metadata": {},
      "source": [
        "### Split and Join"
      ],
      "id": "23f6b11a-f8a8-4b35-aef7-7a48bb38265d"
    },
    {
      "cell_type": "code",
      "execution_count": 10,
      "metadata": {},
      "outputs": [
        {
          "output_type": "stream",
          "name": "stdout",
          "text": [
            "['Python', 'Java', 'C++']\n",
            "Python-Java-C++"
          ]
        }
      ],
      "source": [
        "text = \"Python,Java,C++\"\n",
        "languages = text.split(\",\")\n",
        "print(languages)\n",
        "\n",
        "joined = \"-\".join(languages)\n",
        "print(joined)"
      ],
      "id": "a9a45fbb"
    },
    {
      "cell_type": "markdown",
      "metadata": {},
      "source": [
        "## String Formatting\n",
        "\n",
        "### Format Method"
      ],
      "id": "0d3839e9-af6e-4a01-a659-98125ab4f51c"
    },
    {
      "cell_type": "code",
      "execution_count": 11,
      "metadata": {},
      "outputs": [
        {
          "output_type": "stream",
          "name": "stdout",
          "text": [
            "My name is Bob and I am 25 years old.\n",
            "My name is Bob and I am 25.00 years old."
          ]
        }
      ],
      "source": [
        "name, age = \"Bob\", 25\n",
        "print(\"My name is {} and I am {} years old.\".format(name, age))\n",
        "print(\"My name is {} and I am {:.2f} years old.\".format(name, age))"
      ],
      "id": "7e80f07c"
    },
    {
      "cell_type": "markdown",
      "metadata": {},
      "source": [
        "### % Operator (older style)"
      ],
      "id": "7431368c-2440-4c16-bcba-240347c5fcc9"
    },
    {
      "cell_type": "code",
      "execution_count": 12,
      "metadata": {},
      "outputs": [
        {
          "output_type": "stream",
          "name": "stdout",
          "text": [
            "My name is Charlie and I am 35 years old.\n",
            "My name is Charlie and I am 35.00 years old."
          ]
        }
      ],
      "source": [
        "name, age = \"Charlie\", 35\n",
        "print(\"My name is %s and I am %d years old.\" %(name, age))\n",
        "print(\"My name is %s and I am %.2f years old.\" %(name, age))"
      ],
      "id": "f3061df0"
    },
    {
      "cell_type": "markdown",
      "metadata": {},
      "source": [
        "### f-strings (Formatted Strings)\n",
        "\n",
        "F-strings provide a concise and readable way to embed expressions inside\n",
        "string literals. They are prefixed with ‘f’ or ‘F’."
      ],
      "id": "79532098-8023-48e4-a36b-7ff61ee0be38"
    },
    {
      "cell_type": "code",
      "execution_count": 13,
      "metadata": {},
      "outputs": [
        {
          "output_type": "stream",
          "name": "stdout",
          "text": [
            "My name is Alice and I am 30 years old."
          ]
        }
      ],
      "source": [
        "name = \"Alice\"\n",
        "age = 30\n",
        "print(f\"My name is {name} and I am {age} years old.\")"
      ],
      "id": "40cc79ea"
    },
    {
      "cell_type": "markdown",
      "metadata": {},
      "source": [
        "### r-strings (Raw Strings)\n",
        "\n",
        "Raw strings, prefixed with ‘r’ or ‘R’, treat backslashes as literal\n",
        "characters. This is particularly useful for regular expressions and file\n",
        "paths."
      ],
      "id": "708f138a-3540-4bdc-8562-da077fe887d8"
    },
    {
      "cell_type": "code",
      "execution_count": 14,
      "metadata": {},
      "outputs": [
        {
          "output_type": "stream",
          "name": "stdout",
          "text": [
            "C:\\Users\\John\\Documents\n",
            "C:\\Users\\John\\Documents"
          ]
        }
      ],
      "source": [
        "print(r\"C:\\Users\\John\\Documents\")\n",
        "print(\"C:\\\\Users\\\\John\\\\Documents\") # Compare with a normal string:"
      ],
      "id": "d9072b83"
    },
    {
      "cell_type": "markdown",
      "metadata": {},
      "source": [
        "### rf-strings (Raw-Formatted Strings)\n",
        "\n",
        "RF-strings combine the features of raw strings and formatted strings.\n",
        "They are prefixed with ‘rf’ or ‘RF’.\n",
        "\n",
        "Syntax and usage:"
      ],
      "id": "e10520bf-de44-4d15-ade1-0f4d4f2d547e"
    },
    {
      "cell_type": "code",
      "execution_count": 15,
      "metadata": {},
      "outputs": [
        {
          "output_type": "stream",
          "name": "stdout",
          "text": [
            "C:\\Users\\John"
          ]
        }
      ],
      "source": [
        "name = \"John\"\n",
        "path = r\"C:\\Users\"\n",
        "print(rf\"{path}\\{name}\")"
      ],
      "id": "98a8452d"
    },
    {
      "cell_type": "markdown",
      "metadata": {},
      "source": [
        "## Number Formatting in Strings\n",
        "\n",
        "formatting options:\n",
        "\n",
        "-   `:.2f`: This specifies we want 2 decimal places for a float.\n",
        "-   `:10`: This sets the total field width to 10 characters.\n",
        "-   `:08.3f`: This pads the number with zeros to a width of 8, including\n",
        "    3 decimal places.\n",
        "-   `:.1%`: This formats the number as a percentage with 1 decimal\n",
        "    place.\n",
        "-   `:,`: This adds thousand separators to large numbers."
      ],
      "id": "d423e08c-b126-4e9e-89f9-9092cfb85d7d"
    },
    {
      "cell_type": "code",
      "execution_count": 16,
      "metadata": {},
      "outputs": [
        {
          "output_type": "stream",
          "name": "stdout",
          "text": [
            "Pi to 2 decimal places: 3.14\n",
            "Pi in a field of 10 characters:    3.14159\n",
            "Pi padded with zeros: 0003.142"
          ]
        }
      ],
      "source": [
        "pi = 3.14159\n",
        "radius = 5\n",
        "\n",
        "print(f\"Pi to 2 decimal places: {pi:.2f}\") # Limiting decimal places\n",
        "print(f\"Pi in a field of 10 characters: {pi:10}\") # Specifying width\n",
        "print(f\"Pi padded with zeros: {pi:08.3f}\") # Padding with zeros"
      ],
      "id": "d71333cb"
    },
    {
      "cell_type": "code",
      "execution_count": 17,
      "metadata": {},
      "outputs": [
        {
          "output_type": "stream",
          "name": "stdout",
          "text": [
            "The area of a circle with radius 5 is 78.54\n",
            "You scored 87.6%\n",
            "A million: 1,000,000\n",
            "Scientific notation: 1.23e-04"
          ]
        }
      ],
      "source": [
        "area = pi * radius ** 2 # Using expressions\n",
        "print(f\"The area of a circle with radius {radius} is {area:.2f}\")\n",
        "\n",
        "score = 0.8756 # Formatting percentages\n",
        "print(f\"You scored {score:.1%}\")\n",
        "\n",
        "big_number = 1000000 # Formatting large numbers\n",
        "print(f\"A million: {big_number:,}\")\n",
        "\n",
        "scientific = 0.000123321 # Scientific notation\n",
        "print(\"Scientific notation: {:.2e}\".format(scientific))"
      ],
      "id": "693cec62"
    }
  ],
  "nbformat": 4,
  "nbformat_minor": 5,
  "metadata": {
    "kernelspec": {
      "name": "python3",
      "display_name": "Python 3 (ipykernel)",
      "language": "python",
      "path": "/Users/kittikun/Personal/python/econ/.venv/share/jupyter/kernels/python3"
    },
    "language_info": {
      "name": "python",
      "codemirror_mode": {
        "name": "ipython",
        "version": "3"
      },
      "file_extension": ".py",
      "mimetype": "text/x-python",
      "nbconvert_exporter": "python",
      "pygments_lexer": "ipython3",
      "version": "3.12.4"
    }
  }
}
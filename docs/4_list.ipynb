{
  "cells": [
    {
      "cell_type": "markdown",
      "metadata": {},
      "source": [
        "# List\n",
        "\n",
        "Kittikun Jitpairod\n",
        "\n",
        "## Introduction\n",
        "\n",
        "In Python, a list is an ordered, mutable collection of items. Lists can\n",
        "contain elements of different types, including other lists. They are\n",
        "defined by enclosing comma-separated values in square brackets \\[ \\].\n",
        "\n",
        "Key characteristics of lists:\n",
        "\n",
        "-   Ordered: Elements maintain their order.\n",
        "-   Mutable: Can be modified after creation.\n",
        "-   Dynamic: Can grow or shrink in size.\n",
        "-   Heterogeneous: Can contain items of different types.\n",
        "\n",
        "## Creating Lists\n",
        "\n",
        "Lists can be created in several ways:"
      ],
      "id": "454853bc-97a1-4392-8bad-c23da53956ee"
    },
    {
      "cell_type": "code",
      "execution_count": 1,
      "metadata": {},
      "outputs": [
        {
          "output_type": "stream",
          "name": "stdout",
          "text": [
            "[]\n",
            "[1, 2, 3, 4, 5]\n",
            "['apple', 'banana', 'cherry']\n",
            "[1, 'hello', 3.14, True]\n",
            "[1, [2, 3], [4, 5, 6]]"
          ]
        }
      ],
      "source": [
        "empty_list = []\n",
        "numbers = [1, 2, 3, 4, 5]\n",
        "fruits = [\"apple\", \"banana\", \"cherry\"]\n",
        "mixed = [1, \"hello\", 3.14, True]\n",
        "nested = [1, [2, 3], [4, 5, 6]]\n",
        "\n",
        "print(empty_list)\n",
        "print(numbers)\n",
        "print(fruits)\n",
        "print(mixed)\n",
        "print(nested)"
      ],
      "id": "2cff80b5"
    },
    {
      "cell_type": "markdown",
      "metadata": {},
      "source": [
        "## Accessing List Elements\n",
        "\n",
        "### Indexing\n",
        "\n",
        "Python uses zero-based indexing. Negative indices count from the end of\n",
        "the list."
      ],
      "id": "a79adb8c-b940-4600-8989-c83f0ab06d87"
    },
    {
      "cell_type": "code",
      "execution_count": 2,
      "metadata": {},
      "outputs": [
        {
          "output_type": "stream",
          "name": "stdout",
          "text": [
            "apple\n",
            "cherry"
          ]
        }
      ],
      "source": [
        "fruits = [\"apple\", \"banana\", \"cherry\"]\n",
        "print(fruits[0])\n",
        "print(fruits[-1])"
      ],
      "id": "aba4352a"
    },
    {
      "cell_type": "markdown",
      "metadata": {},
      "source": [
        "### Slicing\n",
        "\n",
        "Slicing allows access to a range of elements. The syntax is\n",
        "\\[start:end:step\\], where start is inclusive and end is exclusive."
      ],
      "id": "89729e11-971b-4e93-ade3-aa1ed74b4817"
    },
    {
      "cell_type": "code",
      "execution_count": 3,
      "metadata": {
        "output-location": "column"
      },
      "outputs": [
        {
          "output_type": "stream",
          "name": "stdout",
          "text": [
            "[1, 2, 3]\n",
            "[0, 1, 2]\n",
            "[2, 3, 4, 5]\n",
            "[0, 2, 4]"
          ]
        }
      ],
      "source": [
        "numbers = [0, 1, 2, 3, 4, 5]\n",
        "print(numbers[1:4])\n",
        "print(numbers[:3])\n",
        "print(numbers[2:])\n",
        "print(numbers[::2])"
      ],
      "id": "d3c01340"
    },
    {
      "cell_type": "markdown",
      "metadata": {},
      "source": [
        "## Modifying Lists\n",
        "\n",
        "### Changing Elements\n",
        "\n",
        "Individual elements can be modified by assigning new values to specific\n",
        "indices."
      ],
      "id": "0739aa95-0b30-4bb4-b47d-10af7df72e09"
    },
    {
      "cell_type": "code",
      "execution_count": 4,
      "metadata": {},
      "outputs": [
        {
          "output_type": "stream",
          "name": "stdout",
          "text": [
            "['apple', 'blueberry', 'cherry']"
          ]
        }
      ],
      "source": [
        "fruits = [\"apple\", \"banana\", \"cherry\"]\n",
        "fruits[1] = \"blueberry\"\n",
        "print(fruits)"
      ],
      "id": "45220dca"
    },
    {
      "cell_type": "markdown",
      "metadata": {},
      "source": [
        "### Adding Elements\n",
        "\n",
        "Elements can be added to lists using various methods:"
      ],
      "id": "3868a5b8-6f3f-4e7c-8e02-eeeb9abfc10d"
    },
    {
      "cell_type": "code",
      "execution_count": 5,
      "metadata": {},
      "outputs": [
        {
          "output_type": "stream",
          "name": "stdout",
          "text": [
            "['apple', 'blueberry', 'banana', 'cherry', 'date', 'fig']"
          ]
        }
      ],
      "source": [
        "fruits = [\"apple\", \"banana\"]\n",
        "fruits.append(\"cherry\")        # Adds to the end\n",
        "fruits.insert(1, \"blueberry\")  # Inserts at specific index\n",
        "fruits.extend([\"date\", \"fig\"]) # Adds multiple elements\n",
        "print(fruits)"
      ],
      "id": "73082e3d"
    },
    {
      "cell_type": "markdown",
      "metadata": {},
      "source": [
        "## Modifying Lists\n",
        "\n",
        "### Removing Elements\n",
        "\n",
        "Elements can be removed from lists in several ways:"
      ],
      "id": "cf6390fb-494c-4a5a-aba2-af4d30d17331"
    },
    {
      "cell_type": "code",
      "execution_count": 6,
      "metadata": {},
      "outputs": [
        {
          "output_type": "stream",
          "name": "stdout",
          "text": [
            "['apple', 'cherry', 'date']"
          ]
        }
      ],
      "source": [
        "fruits = [\"apple\", \"banana\",\n",
        "          \"cherry\", \"date\"]\n",
        "\n",
        "# Remove by value\n",
        "fruits.remove(\"banana\")\n",
        "print(fruits)"
      ],
      "id": "e80fbef9"
    },
    {
      "cell_type": "code",
      "execution_count": 7,
      "metadata": {},
      "outputs": [
        {
          "output_type": "stream",
          "name": "stdout",
          "text": [
            "Removed cherry\n",
            "['apple', 'date']"
          ]
        }
      ],
      "source": [
        "# Remove by index\n",
        "popped = fruits.pop(1)\n",
        "print(f\"Removed {popped}\")\n",
        "print(fruits)"
      ],
      "id": "9074c5a8"
    },
    {
      "cell_type": "code",
      "execution_count": 8,
      "metadata": {},
      "outputs": [
        {
          "output_type": "stream",
          "name": "stdout",
          "text": [
            "Removed date\n",
            "['apple']"
          ]
        }
      ],
      "source": [
        "# Remove last item\n",
        "last = fruits.pop()\n",
        "print(f\"Removed {last}\")\n",
        "print(fruits)"
      ],
      "id": "ed4093bd"
    },
    {
      "cell_type": "code",
      "execution_count": 9,
      "metadata": {},
      "outputs": [
        {
          "output_type": "stream",
          "name": "stdout",
          "text": [
            "[]"
          ]
        }
      ],
      "source": [
        "# Clear all items\n",
        "fruits.clear()\n",
        "print(fruits)"
      ],
      "id": "a538f799"
    },
    {
      "cell_type": "markdown",
      "metadata": {},
      "source": [
        "## List Operations\n",
        "\n",
        "### Concatenation\n",
        "\n",
        "Lists can be combined using the + operator:"
      ],
      "id": "897987dd-1144-46cd-9209-374990ba6fa3"
    },
    {
      "cell_type": "code",
      "execution_count": 10,
      "metadata": {
        "output-location": "column"
      },
      "outputs": [
        {
          "output_type": "stream",
          "name": "stdout",
          "text": [
            "[1, 2, 3, 4, 5, 6]"
          ]
        }
      ],
      "source": [
        "combined = [1, 2, 3] + [4, 5, 6]\n",
        "print(combined)"
      ],
      "id": "366a7cf7"
    },
    {
      "cell_type": "markdown",
      "metadata": {},
      "source": [
        "### Repetition\n",
        "\n",
        "Lists can be repeated using the `*` operator:"
      ],
      "id": "7eb6f0ef-3682-4b36-ba26-5c195bcd1bc6"
    },
    {
      "cell_type": "code",
      "execution_count": 11,
      "metadata": {
        "output-location": "column"
      },
      "outputs": [
        {
          "output_type": "stream",
          "name": "stdout",
          "text": [
            "[1, 2, 3, 1, 2, 3, 1, 2, 3]"
          ]
        }
      ],
      "source": [
        "repeated = [1, 2, 3] * 3\n",
        "print(repeated)"
      ],
      "id": "cb9b5200"
    },
    {
      "cell_type": "markdown",
      "metadata": {},
      "source": [
        "### Membership Test\n",
        "\n",
        "The `in` keyword checks if an item exists in a list:"
      ],
      "id": "7bd0443b-2053-44ad-a7e8-b18f5b75ae50"
    },
    {
      "cell_type": "code",
      "execution_count": 12,
      "metadata": {
        "output-location": "column"
      },
      "outputs": [
        {
          "output_type": "stream",
          "name": "stdout",
          "text": [
            "True\n",
            "False"
          ]
        }
      ],
      "source": [
        "fruits = [\"apple\", \"banana\", \"cherry\"]\n",
        "print(\"banana\" in fruits)\n",
        "print(\"mango\" in fruits)"
      ],
      "id": "a2f4b9b7"
    }
  ],
  "nbformat": 4,
  "nbformat_minor": 5,
  "metadata": {
    "kernelspec": {
      "name": "python3",
      "display_name": "Python 3 (ipykernel)",
      "language": "python",
      "path": "/Users/kittikun/Personal/python/econ/.venv/share/jupyter/kernels/python3"
    },
    "language_info": {
      "name": "python",
      "codemirror_mode": {
        "name": "ipython",
        "version": "3"
      },
      "file_extension": ".py",
      "mimetype": "text/x-python",
      "nbconvert_exporter": "python",
      "pygments_lexer": "ipython3",
      "version": "3.12.4"
    }
  }
}
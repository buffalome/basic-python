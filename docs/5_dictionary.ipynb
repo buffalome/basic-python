{
  "cells": [
    {
      "cell_type": "markdown",
      "metadata": {},
      "source": [
        "# Dictionary\n",
        "\n",
        "Kittikun Jitpairod\n",
        "\n",
        "## Introduction to Dictionaries\n",
        "\n",
        "A dictionary in Python is an unordered collection of key-value pairs. It\n",
        "is also referred to as an associative array, hash table, or hash map in\n",
        "other programming languages. Dictionaries are defined by curly braces {}\n",
        "and contain key:value pairs.\n",
        "\n",
        "The key features of dictionaries are:\n",
        "\n",
        "-   They are mutable (can be modified after creation)\n",
        "-   Keys must be unique and immutable (strings, numbers, or tuples)\n",
        "-   Values can be of any type\n",
        "-   They are unordered (in Python versions \\< 3.7)\n",
        "\n",
        "## Creating Dictionaries\n",
        "\n",
        "There are multiple methods to create dictionaries in Python. Consider\n",
        "the following examples:\n",
        "\n",
        "-   Empty dictionary"
      ],
      "id": "c1030ec8-4c58-4b7d-a543-dae581f63ba8"
    },
    {
      "cell_type": "code",
      "execution_count": 1,
      "metadata": {},
      "outputs": [
        {
          "output_type": "stream",
          "name": "stdout",
          "text": [
            "Empty dictionary: {}"
          ]
        }
      ],
      "source": [
        "empty_dict = {}\n",
        "print(\"Empty dictionary:\", empty_dict)"
      ],
      "id": "8ef587f6"
    },
    {
      "cell_type": "markdown",
      "metadata": {},
      "source": [
        "-   Dictionary with initial key-value pairs"
      ],
      "id": "3c62b8f4-7140-404c-a2a7-1519254e2ea2"
    },
    {
      "cell_type": "code",
      "execution_count": 2,
      "metadata": {},
      "outputs": [
        {
          "output_type": "stream",
          "name": "stdout",
          "text": [
            "Person dictionary: {'name': 'Alice', 'age': 30, 'city': 'New York'}"
          ]
        }
      ],
      "source": [
        "person = {\"name\": \"Alice\", \"age\": 30, \"city\": \"New York\"}\n",
        "print(\"Person dictionary:\", person)"
      ],
      "id": "6933fe48"
    },
    {
      "cell_type": "markdown",
      "metadata": {},
      "source": [
        "-   Using `dict()` constructor"
      ],
      "id": "abbc9706-ab07-47a6-a857-4218eddba1e9"
    },
    {
      "cell_type": "code",
      "execution_count": 3,
      "metadata": {},
      "outputs": [
        {
          "output_type": "stream",
          "name": "stdout",
          "text": [
            "Another person dictionary: {'name': 'Bob', 'age': 25, 'city': 'San Francisco'}"
          ]
        }
      ],
      "source": [
        "another_person = dict(name=\"Bob\", age=25, city=\"San Francisco\")\n",
        "print(\"Another person dictionary:\", another_person)"
      ],
      "id": "953f6e6f"
    },
    {
      "cell_type": "markdown",
      "metadata": {},
      "source": [
        "-   Creating a dictionary from two lists using `zip()`"
      ],
      "id": "fbf9117c-578b-4ae3-a47c-60df15660e45"
    },
    {
      "cell_type": "code",
      "execution_count": 4,
      "metadata": {},
      "outputs": [
        {
          "output_type": "stream",
          "name": "stdout",
          "text": [
            "Combined dictionary: {'a': 1, 'b': 2, 'c': 3}"
          ]
        }
      ],
      "source": [
        "keys = [\"a\", \"b\", \"c\"]\n",
        "values = [1, 2, 3]\n",
        "combined = dict(zip(keys, values))\n",
        "print(\"Combined dictionary:\", combined)"
      ],
      "id": "b6bf43be"
    },
    {
      "cell_type": "markdown",
      "metadata": {},
      "source": [
        "## Accessing and Modifying Dictionary Elements\n",
        "\n",
        "The contents of dictionaries can be access using `[key]` or `get()`\n",
        "method."
      ],
      "id": "1fc86e89-9aeb-4f23-863a-9994693b577a"
    },
    {
      "cell_type": "code",
      "execution_count": 5,
      "metadata": {},
      "outputs": [
        {
          "output_type": "stream",
          "name": "stdout",
          "text": [
            "Name: Alice\n",
            "Age: 30\n",
            "Country: Unknown"
          ]
        }
      ],
      "source": [
        "person = {\"name\": \"Alice\", \"age\": 30, \"city\": \"New York\"}\n",
        "\n",
        "# Using square bracket notation\n",
        "print(\"Name:\", person[\"name\"])\n",
        "\n",
        "# Using get() method\n",
        "print(\"Age:\", person.get(\"age\"))\n",
        "\n",
        "# Using get() with a default value\n",
        "print(\"Country:\", person.get(\"country\", \"Unknown\"))"
      ],
      "id": "5e646080"
    },
    {
      "cell_type": "markdown",
      "metadata": {},
      "source": [
        "The get() method is particularly useful as it allows for the\n",
        "specification of a default value if the key does not exist.\n",
        "\n",
        "## Modifying Dictionary Elements\n",
        "\n",
        "These operations illustrate the dynamic nature of dictionaries."
      ],
      "id": "415fefd1-fe78-4923-b89c-d1f9cada7c14"
    },
    {
      "cell_type": "code",
      "execution_count": 6,
      "metadata": {},
      "outputs": [
        {
          "output_type": "stream",
          "name": "stdout",
          "text": [
            "Updated age: 31\n",
            "Updated dictionary: {'name': 'Alice', 'age': 31, 'city': 'New York', 'job': 'Engineer'}\n",
            "Dictionary after update: {'name': 'Alice', 'age': 32, 'city': 'New York', 'job': 'Engineer', 'country': 'USA'}"
          ]
        }
      ],
      "source": [
        "person = {\"name\": \"Alice\", \"age\": 30, \"city\": \"New York\"}\n",
        "\n",
        "# Changing a value\n",
        "person[\"age\"] = 31\n",
        "print(\"Updated age:\", person[\"age\"])\n",
        "\n",
        "# Adding a new key-value pair\n",
        "person[\"job\"] = \"Engineer\"\n",
        "print(\"Updated dictionary:\", person)\n",
        "\n",
        "# Updating multiple key-value pairs\n",
        "person.update({\"age\": 32, \"country\": \"USA\"})\n",
        "print(\"Dictionary after update:\", person)"
      ],
      "id": "764a7aac"
    },
    {
      "cell_type": "markdown",
      "metadata": {},
      "source": [
        "These operations illustrate the dynamic nature of dictionaries."
      ],
      "id": "273c4502-1d0e-478a-bc7b-1a1ef943d90a"
    },
    {
      "cell_type": "code",
      "execution_count": 7,
      "metadata": {},
      "outputs": [
        {
          "output_type": "stream",
          "name": "stdout",
          "text": [
            "Dictionary after deletion: {'name': 'Alice', 'age': 32, 'job': 'Engineer', 'country': 'USA'}\n",
            "Removed job: Engineer\n",
            "Dictionary after pop: {'name': 'Alice', 'age': 32, 'country': 'USA'}"
          ]
        }
      ],
      "source": [
        "# Removing a key-value pair\n",
        "del person[\"city\"]\n",
        "print(\"Dictionary after deletion:\", person)\n",
        "\n",
        "# Removing and returning a value\n",
        "job = person.pop(\"job\")\n",
        "print(\"Removed job:\", job)\n",
        "print(\"Dictionary after pop:\", person)"
      ],
      "id": "fda6d547"
    },
    {
      "cell_type": "markdown",
      "metadata": {},
      "source": [
        "## Dictionary Methods\n",
        "\n",
        "Python provides several useful methods for working with dictionaries:"
      ],
      "id": "4fd476f1-6b1a-41cb-872d-9063ad47e47a"
    },
    {
      "cell_type": "code",
      "execution_count": 8,
      "metadata": {},
      "outputs": [
        {
          "output_type": "stream",
          "name": "stdout",
          "text": [
            "Keys: dict_keys(['name', 'age', 'city'])\n",
            "Values: dict_values(['Alice', 30, 'New York'])\n",
            "Items: dict_items([('name', 'Alice'), ('age', 30), ('city', 'New York')])\n",
            "After clear: None"
          ]
        }
      ],
      "source": [
        "person = {\"name\": \"Alice\", \"age\": 30, \"city\": \"New York\"}\n",
        "\n",
        "# Get all keys\n",
        "print(\"Keys:\", person.keys())\n",
        "\n",
        "# Get all values\n",
        "print(\"Values:\", person.values())\n",
        "\n",
        "# Get all key-value pairs\n",
        "print(\"Items:\", person.items())\n",
        "\n",
        "# Clear the dictionary\n",
        "print(\"After clear:\", person.clear())"
      ],
      "id": "fb4cc894"
    },
    {
      "cell_type": "markdown",
      "metadata": {},
      "source": [
        "To copy a dictionary:"
      ],
      "id": "745de353-82fc-46bb-aa33-d2ec9a4c3d80"
    },
    {
      "cell_type": "code",
      "execution_count": 9,
      "metadata": {},
      "outputs": [
        {
          "output_type": "stream",
          "name": "stdout",
          "text": [
            "Original: {'x': 1, 'y': 2, 'z': 3}\n",
            "Reference: {'x': 1, 'y': 2, 'z': 3}"
          ]
        }
      ],
      "source": [
        "# Create a new reference\n",
        "original = {\"x\": 1, \"y\": 2}\n",
        "reference = original\n",
        "reference[\"z\"] = 3\n",
        "print(\"Original:\", original)\n",
        "print(\"Reference:\", reference)"
      ],
      "id": "131be21a"
    },
    {
      "cell_type": "code",
      "execution_count": 10,
      "metadata": {},
      "outputs": [
        {
          "output_type": "stream",
          "name": "stdout",
          "text": [
            "Original: {'x': 1, 'y': 2}\n",
            "Copy: {'x': 1, 'y': 2, 'z': 3}"
          ]
        }
      ],
      "source": [
        "# Create a copy\n",
        "original = {\"x\": 1, \"y\": 2}\n",
        "copy = original.copy()\n",
        "copy[\"z\"] = 3\n",
        "print(\"Original:\", original)\n",
        "print(\"Copy:\", copy)"
      ],
      "id": "75cecc32"
    }
  ],
  "nbformat": 4,
  "nbformat_minor": 5,
  "metadata": {
    "kernelspec": {
      "name": "python3",
      "display_name": "Python 3 (ipykernel)",
      "language": "python",
      "path": "/Users/kittikun/Personal/python/econ/.venv/share/jupyter/kernels/python3"
    },
    "language_info": {
      "name": "python",
      "codemirror_mode": {
        "name": "ipython",
        "version": "3"
      },
      "file_extension": ".py",
      "mimetype": "text/x-python",
      "nbconvert_exporter": "python",
      "pygments_lexer": "ipython3",
      "version": "3.12.4"
    }
  }
}
{
  "cells": [
    {
      "cell_type": "markdown",
      "metadata": {},
      "source": [
        "# Condition\n",
        "\n",
        "Kittikun Jitpairod\n",
        "\n",
        "## Introduction to Conditional Statements\n",
        "\n",
        "Conditional statements in Python, as in many programming languages,\n",
        "enable decision-making processes within code. These statements\n",
        "facilitate the execution of different code blocks based on varying\n",
        "conditions.\n",
        "\n",
        "The primary mechanism for implementing conditional statements in Python\n",
        "is the `if` statement, complemented by `else` and `elif` clauses. These\n",
        "constructs allow for the selective execution of code blocks contingent\n",
        "upon the truth value of specified conditions.\n",
        "\n",
        "## The `if` Statement\n",
        "\n",
        "The `if` statement represents the most fundamental form of a conditional\n",
        "statement. It permits the execution of a code block only when a\n",
        "specified condition evaluates to true.\n",
        "\n",
        "Consider this example:"
      ],
      "id": "78d64532-f11f-4af8-ac39-a182c91eb74c"
    },
    {
      "cell_type": "code",
      "execution_count": 1,
      "metadata": {},
      "outputs": [
        {
          "output_type": "stream",
          "name": "stdout",
          "text": [
            "You are an adult.\n",
            "This will always be printed."
          ]
        }
      ],
      "source": [
        "age = 20\n",
        "\n",
        "if age >= 18:\n",
        "    print(\"You are an adult.\")\n",
        "\n",
        "print(\"This will always be printed.\")"
      ],
      "id": "5414fe4e"
    },
    {
      "cell_type": "markdown",
      "metadata": {},
      "source": [
        "In this instance, the condition `age >= 18` evaluates to True, resulting\n",
        "in the execution of the indented code block. The final print statement,\n",
        "being outside the if block, is executed regardless of the condition’s\n",
        "truth value.\n",
        "\n",
        "It is important to note that Python utilizes indentation to define code\n",
        "blocks. The indented code under the `if` statement is executed only when\n",
        "the condition evaluates to True."
      ],
      "id": "cefe671f-2075-43a9-97ac-5d8022b8866a"
    },
    {
      "cell_type": "code",
      "execution_count": 2,
      "metadata": {},
      "outputs": [
        {
          "output_type": "stream",
          "name": "stdout",
          "text": [
            "It's a bit chilly.\n",
            "You might want to wear a jacket.\n",
            "Enjoy your day!"
          ]
        }
      ],
      "source": [
        "temperature = 15\n",
        "\n",
        "if temperature < 20:\n",
        "    print(\"It's a bit chilly.\")\n",
        "    print(\"You might want to wear a jacket.\")\n",
        "\n",
        "print(\"Enjoy your day!\")"
      ],
      "id": "3b41a038"
    },
    {
      "cell_type": "markdown",
      "metadata": {},
      "source": [
        "## The `else` Clause\n",
        "\n",
        "The `else` clause provides an alternative execution path when the\n",
        "condition in the `if` statement evaluates to False:"
      ],
      "id": "f2834a36-a13b-40e9-aa22-3c2ae7da83de"
    },
    {
      "cell_type": "code",
      "execution_count": 3,
      "metadata": {},
      "outputs": [
        {
          "output_type": "stream",
          "name": "stdout",
          "text": [
            "You are a minor."
          ]
        }
      ],
      "source": [
        "age = 15\n",
        "if age >= 18:\n",
        "    print(\"You are an adult.\")\n",
        "else:\n",
        "    print(\"You are a minor.\")"
      ],
      "id": "00b4d844"
    },
    {
      "cell_type": "markdown",
      "metadata": {},
      "source": [
        "The `else` clause specifies an alternative code block to be executed\n",
        "when the `if` condition is False."
      ],
      "id": "cdc7e732-7eab-47be-9d1d-354909dee234"
    },
    {
      "cell_type": "code",
      "execution_count": 4,
      "metadata": {},
      "outputs": [
        {
          "output_type": "stream",
          "name": "stdout",
          "text": [
            "Remember to take an umbrella!"
          ]
        }
      ],
      "source": [
        "is_raining = True\n",
        "if is_raining:\n",
        "    print(\"Remember to take an umbrella!\")\n",
        "else:\n",
        "    print(\"Enjoy the sunny weather!\")"
      ],
      "id": "3c5d7f39"
    },
    {
      "cell_type": "markdown",
      "metadata": {},
      "source": [
        "## The `elif` Clause\n",
        "\n",
        "For scenarios requiring multiple condition checks, Python offers the\n",
        "`elif` (short for “else if”) clause as an efficient alternative to\n",
        "nested if-else statements:\n",
        "\n",
        "``` python\n",
        "score = 65\n",
        "\n",
        "if score >= 80:\n",
        "    print(\"A\")\n",
        "elif score >= 70:\n",
        "    print(\"B\")\n",
        "elif score >= 60:\n",
        "    print(\"C\")\n",
        "elif score >= 50:\n",
        "    print(\"D\")\n",
        "else:\n",
        "    print(\"F\")\n",
        "```\n",
        "\n",
        "    C\n",
        "\n",
        "``` python\n",
        "day = \"Wednesday\"\n",
        "\n",
        "if day == \"Monday\":\n",
        "    print(\"Start of the work week.\")\n",
        "elif day == \"Friday\":\n",
        "    print(\"TGIF!\")\n",
        "elif day == \"Saturday\" or day == \"Sunday\":\n",
        "    print(\"Weekend!\")\n",
        "else:\n",
        "    print(\"Midweek.\")\n",
        "```\n",
        "\n",
        "    Midweek.\n",
        "\n",
        "Multiple `elif` clauses can be employed as needed. Python evaluates each\n",
        "condition sequentially and executes the code block associated with the\n",
        "first True condition encountered.\n",
        "\n",
        "## Nested Conditional Statements\n",
        "\n",
        "Conditional statements can be embedded within other conditional\n",
        "statements, a practice known as nesting:\n",
        "\n",
        "``` python\n",
        "is_sunny = True\n",
        "temperature = 28\n",
        "\n",
        "if is_sunny:\n",
        "    if temperature > 25:\n",
        "        print(\"It's a hot, sunny day!\")\n",
        "    else:\n",
        "        print(\"It's a mild, sunny day.\")\n",
        "else:\n",
        "    print(\"It's not sunny today.\")\n",
        "```\n",
        "\n",
        "While nested conditionals can facilitate more complex decision-making\n",
        "processes, excessive nesting should be avoided as it can compromise code\n",
        "readability.\n",
        "\n",
        "## Conditional Expressions (Ternary Operator)\n",
        "\n",
        "Python provides a concise syntax for simple if-else statements, often\n",
        "referred to as the ternary operator:"
      ],
      "id": "26ed358a-bdbb-4508-8662-532ccb271760"
    },
    {
      "cell_type": "code",
      "execution_count": 7,
      "metadata": {},
      "outputs": [
        {
          "output_type": "stream",
          "name": "stdout",
          "text": [
            "adult"
          ]
        }
      ],
      "source": [
        "age = 20\n",
        "status = \"adult\" if age >= 18 else \"minor\"\n",
        "print(status)"
      ],
      "id": "6d2ec233"
    },
    {
      "cell_type": "markdown",
      "metadata": {},
      "source": [
        "The syntax follows the pattern:\n",
        "`value_if_true if condition else value_if_false`\n",
        "\n",
        "While this construct can be useful for simple conditions, full if-else\n",
        "statements are generally preferred for more complex logic to maintain\n",
        "code readability."
      ],
      "id": "2f0b0af6-9117-40eb-a2f8-cc83c9b11fb0"
    }
  ],
  "nbformat": 4,
  "nbformat_minor": 5,
  "metadata": {
    "kernelspec": {
      "name": "python3",
      "display_name": "Python 3 (ipykernel)",
      "language": "python",
      "path": "/Users/kittikun/Personal/python/econ/.venv/share/jupyter/kernels/python3"
    },
    "language_info": {
      "name": "python",
      "codemirror_mode": {
        "name": "ipython",
        "version": "3"
      },
      "file_extension": ".py",
      "mimetype": "text/x-python",
      "nbconvert_exporter": "python",
      "pygments_lexer": "ipython3",
      "version": "3.12.4"
    }
  }
}
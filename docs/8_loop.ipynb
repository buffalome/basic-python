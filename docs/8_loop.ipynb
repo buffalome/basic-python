{
  "cells": [
    {
      "cell_type": "markdown",
      "metadata": {},
      "source": [
        "# Loop\n",
        "\n",
        "Kittikun Jitpairod\n",
        "\n",
        "## Introduction to Loops\n",
        "\n",
        "Loops in Python provide a mechanism for executing a set of instructions\n",
        "repeatedly. They are fundamental constructs in programming that allow\n",
        "for efficient handling of iterative tasks. Python offers two primary\n",
        "types of loops: ‘for’ loops and ‘while’ loops, each serving different\n",
        "purposes in code execution.\n",
        "\n",
        "## The `for` Loop\n",
        "\n",
        "The `for` loop in Python is designed to iterate over a sequence (such as\n",
        "a list, tuple, string, or range) or other iterable objects. It executes\n",
        "a set of statements once for each item in the sequence.\n",
        "\n",
        "Basic syntax:\n",
        "\n",
        "``` python\n",
        "for item in sequence:\n",
        "    # code to be executed\n",
        "```\n",
        "\n",
        "Example:\n",
        "\n",
        "``` python\n",
        "fruits = [\"apple\", \"banana\", \"cherry\"]\n",
        "for fruit in fruits:\n",
        "    print(fruit)\n",
        "```\n",
        "\n",
        "    apple\n",
        "    banana\n",
        "    cherry\n",
        "\n",
        "The ‘for’ loop can also be used with the `range()` function to execute a\n",
        "set of statements a specific number of times:\n",
        "\n",
        "``` python\n",
        "for i in range(5):\n",
        "    print(i)\n",
        "```\n",
        "\n",
        "    0\n",
        "    1\n",
        "    2\n",
        "    3\n",
        "    4\n",
        "\n",
        "## The `while` Loop\n",
        "\n",
        "The `while` loop executes a set of statements as long as a given\n",
        "condition is true. It’s particularly useful when the number of\n",
        "iterations is not known beforehand.\n",
        "\n",
        "Basic syntax:\n",
        "\n",
        "``` python\n",
        "while condition:\n",
        "    # code to be executed\n",
        "```\n",
        "\n",
        "Example:"
      ],
      "id": "5b1238c1-c6e5-4ef8-959c-0fb42a54c8d2"
    },
    {
      "cell_type": "code",
      "execution_count": 3,
      "metadata": {},
      "outputs": [
        {
          "output_type": "stream",
          "name": "stdout",
          "text": [
            "0\n",
            "1\n",
            "2\n",
            "3\n",
            "4"
          ]
        }
      ],
      "source": [
        "count = 0\n",
        "while count < 5:\n",
        "    print(count)\n",
        "    count += 1"
      ],
      "id": "e02fb0cf"
    },
    {
      "cell_type": "markdown",
      "metadata": {},
      "source": [
        "## Loop Control Statements\n",
        "\n",
        "Python provides several statements to control the flow of loops:\n",
        "\n",
        "1.  `break`: Terminates the loop prematurely\n",
        "2.  `continue`: Skips the rest of the code inside the loop for the\n",
        "    current iteration\n",
        "3.  `else`: Specifies a block of code to be executed when the loop is\n",
        "    exhausted\n",
        "\n",
        "Example:"
      ],
      "id": "ff630da1-5de2-4da8-9b10-26b610f2c0f2"
    },
    {
      "cell_type": "code",
      "execution_count": 4,
      "metadata": {},
      "outputs": [
        {
          "output_type": "stream",
          "name": "stdout",
          "text": [
            "0\n",
            "1\n",
            "2\n",
            "3\n",
            "4"
          ]
        }
      ],
      "source": [
        "for num in range(10):\n",
        "    if num == 5:\n",
        "        break\n",
        "    print(num)\n",
        "else:\n",
        "    print(\"Loop completed normally\")"
      ],
      "id": "f720ed48"
    },
    {
      "cell_type": "markdown",
      "metadata": {},
      "source": [
        "## Nested Loops\n",
        "\n",
        "Loops can be nested inside other loops, allowing for more complex\n",
        "iterations:"
      ],
      "id": "78c8dbe3-9ff5-4a4b-8a32-9b89e1ff5d55"
    },
    {
      "cell_type": "code",
      "execution_count": 5,
      "metadata": {},
      "outputs": [
        {
          "output_type": "stream",
          "name": "stdout",
          "text": [
            "(0, 0)\n",
            "(0, 1)\n",
            "(0, 2)\n",
            "(1, 0)\n",
            "(1, 1)\n",
            "(1, 2)\n",
            "(2, 0)\n",
            "(2, 1)\n",
            "(2, 2)"
          ]
        }
      ],
      "source": [
        "for i in range(3):\n",
        "    for j in range(3):\n",
        "        print(f\"({i}, {j})\")"
      ],
      "id": "14991a38"
    },
    {
      "cell_type": "markdown",
      "metadata": {},
      "source": [
        "## List Comprehensions\n",
        "\n",
        "Python offers a concise way to create lists based on existing lists,\n",
        "known as list comprehensions:"
      ],
      "id": "503ed75f-ee92-4a4c-947c-bfb2a511080c"
    },
    {
      "cell_type": "code",
      "execution_count": 6,
      "metadata": {},
      "outputs": [
        {
          "output_type": "stream",
          "name": "stdout",
          "text": [
            "[0, 1, 4, 9, 16, 25, 36, 49, 64, 81]"
          ]
        }
      ],
      "source": [
        "squares = [x**2 for x in range(10)]\n",
        "print(squares)"
      ],
      "id": "2d8de7bf"
    },
    {
      "cell_type": "markdown",
      "metadata": {},
      "source": [
        "This is equivalent to:"
      ],
      "id": "34f07eb1-f711-4870-b773-d4f0e28720f0"
    },
    {
      "cell_type": "code",
      "execution_count": 7,
      "metadata": {},
      "outputs": [
        {
          "output_type": "stream",
          "name": "stdout",
          "text": [
            "[0, 1, 4, 9, 16, 25, 36, 49, 64, 81]"
          ]
        }
      ],
      "source": [
        "squares = []\n",
        "for x in range(10):\n",
        "    squares.append(x**2)\n",
        "print(squares)"
      ],
      "id": "a081bdb9"
    }
  ],
  "nbformat": 4,
  "nbformat_minor": 5,
  "metadata": {
    "kernelspec": {
      "name": "python3",
      "display_name": "Python 3 (ipykernel)",
      "language": "python",
      "path": "/Users/kittikun/Personal/python/econ/.venv/share/jupyter/kernels/python3"
    },
    "language_info": {
      "name": "python",
      "codemirror_mode": {
        "name": "ipython",
        "version": "3"
      },
      "file_extension": ".py",
      "mimetype": "text/x-python",
      "nbconvert_exporter": "python",
      "pygments_lexer": "ipython3",
      "version": "3.12.4"
    }
  }
}
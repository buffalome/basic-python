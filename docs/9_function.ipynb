{
  "cells": [
    {
      "cell_type": "markdown",
      "metadata": {},
      "source": [
        "# Function\n",
        "\n",
        "Kittikun Jitpairod\n",
        "\n",
        "## Introduction to Functions\n",
        "\n",
        "Functions are reusable blocks of code that perform a specific task. They\n",
        "help us organize our code, make it more readable, and avoid repetition.\n",
        "Functions are a key aspect of the “Don’t Repeat Yourself” (DRY)\n",
        "principle in programming.\n",
        "\n",
        "In this session, we’ll cover:\n",
        "\n",
        "-   Defining and calling functions\n",
        "-   Parameters and return values\n",
        "-   Variable scope\n",
        "-   Lambda functions\n",
        "-   Advanced function concepts\n",
        "\n",
        "## Defining Functions\n",
        "\n",
        "Let’s begin by creating a simple function:"
      ],
      "id": "9f19a2e5-ce41-4931-ab84-bce5cdf0eb92"
    },
    {
      "cell_type": "code",
      "execution_count": 1,
      "metadata": {},
      "outputs": [
        {
          "output_type": "stream",
          "name": "stdout",
          "text": [
            "Hello, World!"
          ]
        }
      ],
      "source": [
        "def greet():\n",
        "    print(\"Hello, World!\")\n",
        "\n",
        "# Calling the function\n",
        "greet()"
      ],
      "id": "f72a41d5"
    },
    {
      "cell_type": "markdown",
      "metadata": {},
      "source": [
        "Here’s the anatomy of a function:\n",
        "\n",
        "-   The `def` keyword tells Python we’re defining a function\n",
        "-   The function name (in this case, `greet`)\n",
        "-   Parentheses `()` (which can contain parameters, but are empty in\n",
        "    this case)\n",
        "-   A colon `:` to start the function body\n",
        "-   The indented code block that makes up the function body\n",
        "\n",
        "We call a function by using its name followed by parentheses.\n",
        "\n",
        "## Defining Functions with Input(s)\n",
        "\n",
        "Let’s create a function that takes a parameter(s):"
      ],
      "id": "51728b3c-656f-4fc6-9bde-0348675f4491"
    },
    {
      "cell_type": "code",
      "execution_count": 2,
      "metadata": {
        "output-location": "column"
      },
      "outputs": [
        {
          "output_type": "stream",
          "name": "stdout",
          "text": [
            "I'm, April from Japan."
          ]
        }
      ],
      "source": [
        "def introduce(name, country):\n",
        "    print(f\"I'm, {name} from {country}.\")\n",
        "\n",
        "introduce(\"April\", \"Japan\")"
      ],
      "id": "a6bd11b7"
    },
    {
      "cell_type": "markdown",
      "metadata": {},
      "source": [
        "The default value and suggested data type of input parameters can also\n",
        "be defined."
      ],
      "id": "8ef4c450-bf37-461f-9fc4-d4c21a120bb3"
    },
    {
      "cell_type": "code",
      "execution_count": 3,
      "metadata": {
        "output-location": "column"
      },
      "outputs": [
        {
          "output_type": "stream",
          "name": "stdout",
          "text": [
            "I'm, Jonh from India.\n",
            "I'm, Bob from India.\n",
            "I'm, Jonh from 5."
          ]
        }
      ],
      "source": [
        "def introduce(name=\"Jonh\",\n",
        "    country:str=\"India\"):\n",
        "\n",
        "    print(f\"I'm, {name} from {country}.\")\n",
        "\n",
        "introduce()\n",
        "introduce(\"Bob\")\n",
        "introduce(country = 5) # use keyword argument"
      ],
      "id": "39ca7484"
    },
    {
      "cell_type": "markdown",
      "metadata": {},
      "source": [
        "## Defining Functions with Return Values\n",
        "\n",
        "Functions return values by using `return` keyword:"
      ],
      "id": "390b62b3-d1a4-4c66-9566-85f2480a092e"
    },
    {
      "cell_type": "code",
      "execution_count": 4,
      "metadata": {},
      "outputs": [
        {
          "output_type": "stream",
          "name": "stdout",
          "text": [
            "5 + 3 = 8"
          ]
        }
      ],
      "source": [
        "def add_numbers(a, b):\n",
        "    return a + b\n",
        "\n",
        "result = add_numbers(5, 3)\n",
        "print(f\"5 + 3 = {result}\")"
      ],
      "id": "1ffc3db8"
    },
    {
      "cell_type": "markdown",
      "metadata": {},
      "source": [
        "Python functions can return multiple values:"
      ],
      "id": "ed1a91d3-b9d8-4aa4-9431-d5afc3157e92"
    },
    {
      "cell_type": "code",
      "execution_count": 5,
      "metadata": {},
      "outputs": [
        {
          "output_type": "stream",
          "name": "stdout",
          "text": [
            "10 + 5 = 15, 10 - 5 = 5"
          ]
        }
      ],
      "source": [
        "def calculate(a, b):\n",
        "    add = a + b\n",
        "    subtract = a - b\n",
        "    return add, subtract\n",
        "\n",
        "result1, result2 = calculate(10, 5)\n",
        "print(f\"10 + 5 = {result1}, 10 - 5 = {result2}\")"
      ],
      "id": "fd656277"
    },
    {
      "cell_type": "markdown",
      "metadata": {},
      "source": [
        "## Variable Scope\n",
        "\n",
        "Understanding variable scope is crucial when working with functions:\n",
        "\n",
        "``` python\n",
        "x = 10  # Global variable\n",
        "\n",
        "def print_x():\n",
        "    print(x)  # Accessing global variable\n",
        "\n",
        "print_x()\n",
        "\n",
        "def change_x():\n",
        "    x = 20  # Local variable\n",
        "    print(x)\n",
        "\n",
        "change_x()\n",
        "print(x)  # Global x remains unchanged\n",
        "```\n",
        "\n",
        "    10\n",
        "    20\n",
        "    10\n",
        "\n",
        "If we want to modify a global variable inside a function, we use the\n",
        "`global` keyword:\n",
        "\n",
        "``` python\n",
        "x = 10\n",
        "\n",
        "def change_global_x():\n",
        "    global x\n",
        "    x = 20\n",
        "    print(x)\n",
        "\n",
        "change_global_x()\n",
        "print(x)  # Global x is changed\n",
        "```\n",
        "\n",
        "    20\n",
        "    20\n",
        "\n",
        "## Type Annotations\n",
        "\n",
        "Type annotations allow us to specify the expected types of function\n",
        "parameters and return values.\n",
        "\n",
        "### Basic Type Annotations\n",
        "\n",
        "Here’s how we can add type annotations to a simple function:\n",
        "\n",
        "``` python\n",
        "def greet(name: str) -> str:\n",
        "    return f\"Hello, {name}!\"\n",
        "\n",
        "print(greet(\"Alice\"))\n",
        "```\n",
        "\n",
        "    Hello, Alice!\n",
        "\n",
        "In this example, `: str` after `name` indicates that `name` should be a\n",
        "string, and `-> str` indicates that the function returns a string.\n",
        "\n",
        "### Type Checking\n",
        "\n",
        "While Python itself doesn’t enforce these types at runtime, we can use\n",
        "tools like mypy for static type checking:\n",
        "\n",
        "``` python\n",
        "def add_numbers(a: int, b: int) -> int:\n",
        "    return a + b\n",
        "\n",
        "result = add_numbers(\"5\", \"10\")\n",
        "print(result)\n",
        "```\n",
        "\n",
        "    510\n",
        "\n",
        "This code will run without errors in Python, but a type checker would\n",
        "flag it as an error because we’re passing strings to a function that\n",
        "expects integers."
      ],
      "id": "6f0b62cd-31d8-4afd-bae9-66b132e19f98"
    }
  ],
  "nbformat": 4,
  "nbformat_minor": 5,
  "metadata": {
    "kernelspec": {
      "name": "python3",
      "display_name": "Python 3 (ipykernel)",
      "language": "python",
      "path": "/Users/kittikun/Personal/python/econ/.venv/share/jupyter/kernels/python3"
    },
    "language_info": {
      "name": "python",
      "codemirror_mode": {
        "name": "ipython",
        "version": "3"
      },
      "file_extension": ".py",
      "mimetype": "text/x-python",
      "nbconvert_exporter": "python",
      "pygments_lexer": "ipython3",
      "version": "3.12.4"
    }
  }
}
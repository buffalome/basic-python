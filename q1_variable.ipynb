{
  "cells": [
    {
      "cell_type": "markdown",
      "metadata": {},
      "source": [
        "format: \n",
        "  html:\n",
        "    code-fold: false\n",
        "    number-sections: true\n",
        "    number-depth: 3\n",
        "  pdf:\n",
        "    toc: true\n",
        "    number-sections: true\n",
        "    colorlinks: true\n",
        "  docx:\n",
        "    toc: true\n",
        "    number-sections: true\n",
        "    highlight-style: github\n",
        "  pptx:\n",
        "    incremental: true  \n",
        "jupyter: python3"
      ]
    },
    {
      "cell_type": "markdown",
      "metadata": {},
      "source": [
        "## Introduction\n",
        "In computer programming, variables act as containers that store data in a program. They allow for easy management of information throughout a program's run. Python uses a system called dynamic typing, which figures out the type of data in a variable based on what is stored in it. This feature helps make Python easy for new programmers to learn.\n",
        "\n",
        "\n",
        "## Variable Naming Rules\n",
        "\n",
        "When creating variables in Python, certain naming rules must be followed:\n",
        "\n",
        "1. The first character must be a letter (a-z, A-Z) or an underscore (_).\n",
        "2. After the first character, the name can include letters, numbers, and underscores.\n",
        "3. Variable names are case-sensitive. This means `age`, `Age`, and `AGE` are three different variables.\n",
        "4. Python keywords, which are special words used by Python, cannot be used as variable names.\n",
        "\n",
        "- **Examples of valid variable names:** `name`, `age`, `student_count`, `_private_var`, `total2`\n",
        "- **Examples of invalid variable names:** `2total` (starts with a number), `my-var` (has a hyphen), `for` (Python keyword)\n",
        "\n",
        "While Python allows variables to start with an underscore, this is generally avoided unless there's a specific reason to do so.\n",
        "\n",
        "\n",
        "## Variable Assignment\n",
        "\n",
        "Storing data in variables is called assignment. In Python, this is done using the equals sign (=). The basic format is:\n",
        "\n",
        "```python\n",
        "variable_name = value\n",
        "```\n",
        "\n",
        "Here are some examples:"
      ]
    },
    {
      "cell_type": "code",
      "execution_count": null,
      "metadata": {},
      "outputs": [],
      "source": [
        "x = 5\n",
        "name = \"Alice\"\n",
        "pi = 3.14159"
      ]
    },
    {
      "cell_type": "markdown",
      "metadata": {},
      "source": [
        "These examples create three variables:\n",
        "\n",
        "- `x` is given the integer value 5\n",
        "- `name` is given the string value \"Alice\"\n",
        "- `pi` is given the decimal value 3.14159\n",
        "\n",
        "\n",
        "## Multiple Assignment\n",
        "\n",
        "Python allows assigning values to multiple variables in one line of code. This can be done in two main ways:"
      ]
    },
    {
      "cell_type": "code",
      "execution_count": null,
      "metadata": {},
      "outputs": [],
      "source": [
        "a, b, c = 1, 2, 3\n",
        "print(f\"a = {a}, b = {b}, c = {c}\")"
      ]
    },
    {
      "cell_type": "markdown",
      "metadata": {},
      "source": [
        "This gives `a` the value 1, `b` the value 2, and `c` the value 3.\n",
        "\n",
        "Another way is to give the same value to multiple variables at once:"
      ]
    },
    {
      "cell_type": "code",
      "execution_count": null,
      "metadata": {},
      "outputs": [],
      "source": [
        "a = b = c = 0\n",
        "print(f\"a = {a}, b = {b}, c = {c}\")"
      ]
    },
    {
      "cell_type": "markdown",
      "metadata": {},
      "source": [
        "This sets `x`, `y`, and `z` all equal to 0.\n",
        "\n",
        "While multiple assignment can make code shorter, it should be used carefully to keep the code easy to read.\n",
        "\n",
        "\n",
        "## Variable Types\n",
        "\n",
        "Python is a dynamically typed language, which means you don't need to declare the type of a variable when you create it. The interpreter infers the type based on the value assigned. However, understanding the basic types is crucial for effective programming.\n",
        "\n",
        "1. Numeric Types:\n",
        "    - int: Integers → `5`, `-3`, `0`\n",
        "    - float: Floating-point numbers → `3.14`, `-0.001`, `2.0e-4`\n",
        "    - complex: Complex numbers → `3+4j`\n",
        "2. Sequence Types:\n",
        "    - str: Strings → `\"Hello\"`, `'Python'`\n",
        "    - list: Mutable sequences → `[1, 2, 3]`\n",
        "    - tuple: Immutable sequences → `(1, 2, 3)`\n",
        "\n",
        "\n",
        "## Variable Types\n",
        "\n",
        "Python is a dynamically typed language, which means you don't need to declare the type of a variable when you create it. The interpreter infers the type based on the value assigned. However, understanding the basic types is crucial for effective programming.\n",
        "\n",
        "3. Mapping Type:\n",
        "    - dict: Key-value pairs → `{\"name\": \"John\", \"age\": 30}`\n",
        "4. Set Types:\n",
        "    - set: Unordered collection of unique elements →  `{1, 2, 3}`\n",
        "    - frozenset: Immutable version of set\n",
        "5. Boolean Type:\n",
        "    - bool: `True` or `False`\n",
        "6. None Type:\n",
        "    - None: Represents the absence of a value\n",
        "\n",
        "\n",
        "## Check Variable Types\n",
        "\n",
        "You can check the type of a variable using the `type()` function:"
      ]
    },
    {
      "cell_type": "code",
      "execution_count": null,
      "metadata": {},
      "outputs": [],
      "source": [
        "age = 25          # integer (int)\n",
        "height = 1.75     # floating-point number (float)\n",
        "name = \"Bob\"      # string (str)\n",
        "is_student = True # boolean (bool)\n",
        "\n",
        "print(type(age))\n",
        "print(type(height))\n",
        "print(type(name))\n",
        "print(type(is_student))"
      ]
    },
    {
      "cell_type": "markdown",
      "metadata": {},
      "source": [
        "## Variable Types Conversion\n",
        "\n",
        "Python also allows type conversion between compatible types:"
      ]
    },
    {
      "cell_type": "code",
      "execution_count": null,
      "metadata": {},
      "outputs": [],
      "source": [
        "a = int(3.14)    # Converts float to int: 3\n",
        "b = float(5)     # Converts int to float: 5.0\n",
        "c = str(42)      # Converts int to str: \"42\"\n",
        "d = bool(1)      # Converts int to bool: True\n",
        "\n",
        "print(type(a))\n",
        "print(type(b))\n",
        "print(type(c))\n",
        "print(type(d))"
      ]
    },
    {
      "cell_type": "markdown",
      "metadata": {},
      "source": [
        "## Variable Reassignment\n",
        "\n",
        "A useful feature of Python's dynamic typing is the ability to change both the value and the type of a variable. For example:"
      ]
    },
    {
      "cell_type": "code",
      "execution_count": null,
      "metadata": {},
      "outputs": [],
      "source": [
        "x = 5\n",
        "print(x)\n",
        "x = \"Hello\"\n",
        "print(x)"
      ]
    },
    {
      "cell_type": "markdown",
      "metadata": {},
      "source": [
        "Here, `x` starts as an integer but is then changed to a string. While this flexibility can be useful, it should be used thoughtfully to avoid confusion.\n",
        "\n",
        "\n",
        "## Variable Type Annotation\n",
        "\n",
        "Variable type annotation, introduced in Python 3.5, allows programmers to clearly state the expected types of variables. This practice makes code easier to read, improves documentation, and helps find potential errors before the program runs.\n",
        "\n",
        "Examples of type annotations in Python:"
      ]
    },
    {
      "cell_type": "code",
      "execution_count": null,
      "metadata": {},
      "outputs": [],
      "source": [
        "name: str = \"Alice\"\n",
        "age: int = 30\n",
        "height: float = 1.75\n",
        "is_student: bool = True\n",
        "print(f\"{age}: type {type(age)}\")"
      ]
    },
    {
      "cell_type": "markdown",
      "metadata": {},
      "source": [
        "\\\n",
        "\n",
        "The annotation has nothing to do with the data type assigned."
      ]
    },
    {
      "cell_type": "code",
      "execution_count": null,
      "metadata": {},
      "outputs": [],
      "source": [
        "age: int = 30.5\n",
        "print(f\"{age}: type {type(age)}\")"
      ]
    }
  ],
  "metadata": {
    "kernelspec": {
      "display_name": "Python 3 (ipykernel)",
      "language": "python",
      "name": "python3",
      "path": "/Users/kittikun/Personal/python/econ/.venv/share/jupyter/kernels/python3"
    },
    "language_info": {
      "name": "python",
      "version": "3.12.4"
    }
  },
  "nbformat": 4,
  "nbformat_minor": 4
}
